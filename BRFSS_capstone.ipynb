{
 "cells": [
  {
   "cell_type": "markdown",
   "metadata": {},
   "source": [
    "# Predicting Depression in at-risk Individuals"
   ]
  },
  {
   "cell_type": "markdown",
   "metadata": {},
   "source": [
    "### Problem statement formation: \n",
    "How can the NIMH decrease the median time delay for mental health treatment through the development of an app that screens individuals for mental illnesses?\n",
    "\n",
    "Context:  According to the NIMH, one in five Americans live with a mental illness. This can include both mental, behavioral, or emotional disorders. In addition, according to the NIMH data from 2017, among the 46.6 million adults with any mental illness, 19.8 million (42.6%) received mental health services in the past year. Furthermore, in 2017, the NIMH identified that 4.5% of all U.S. adults experienced a serious mental illness (SMI), meaning that the SMI substantially interfered with or limited one or more major life activities (Substance Abuse and Mental Health Services Administration, 2018). As the effects of mental illness can be severe, it is prudent to diagnose and treat individuals with mental illness in a timely manner. There are significant delays in diagnosing and treating a mental illness after initial onset (McLaughline, 2004). \n",
    "\n",
    "Criteria for Success: The creation of an app that will screen individuals for depressive disorders and refer them to a psychiatrist immediately. Success will be measured by assessing the delay in treatment in upcoming years. It is expected that the median delay time will decrease from 11 years until the first contact with a psychiatrist, to less than one year.\n",
    "\n",
    "Scope of solution space: This app will be used for adults (age 18 and up) in the United States who believe that they are struggling with their mental health. In the future, this can expand to other countries when data is collected from the WHO.\n",
    "\n",
    "Constraints: There is a lot of missing data in the BRFSS. Potentially, this could be because people refused to answer due to sensitivity to the topic. Because of this, there could be a confounding variable and missing data will have to be dealt with carefully. In addition, the budget needs to be kept in mind because funding will be allocated from the NIMH for this project according to the likelihood of success.\n",
    "\n",
    "Stakeholders: Those invested in this project will be the NIMH, the SAMHSA, psychiatric treatment providers and insurance companies.\n",
    "\n",
    "Data Sources: Data is acquired from the 2001-2010 BRFSS, which includes over 200 items and over 200,000 responses. However, after reviewing the data included related to depression items, the sample size decreases to about 80,000.\n",
    "\n",
    "Method: I will solve this problem by developing a classification model to predict the presence of a mental illness in individuals using the app. The app will narrow the predictors down to <=10 questions for ease of use.\n",
    "\n",
    "Deliverables: The deliverables include an app that functions appropriately for adults in the United States, as well as a slide deck that explains how the app was developed and verified. In addition, all the code will be available in a GitHub repo for each step of the project.\n",
    "\n"
   ]
  },
  {
   "cell_type": "code",
   "execution_count": 1,
   "metadata": {},
   "outputs": [],
   "source": [
    "import matplotlib.pyplot as plt\n",
    "plt.rcParams[\"figure.figsize\"] = (15,9)"
   ]
  },
  {
   "cell_type": "code",
   "execution_count": 2,
   "metadata": {
    "colab": {},
    "colab_type": "code",
    "id": "wA98fh8rbv9c"
   },
   "outputs": [],
   "source": [
    "\n",
    "import pandas as pd\n",
    "#import BRFSS 2010 data and select columns of interest\n",
    "df2=pd.read_csv('10.csv')\n",
    "df2.shape\n",
    "df2=df2[['EMTSUPRT', 'LSATISFY','ADPLEASR','ADDOWN', 'ADSLEEP', 'ADENERGY', 'ADEAT1', 'ADFAIL', 'ADTHINK','ADMOVE','ADANXEV', 'ADDEPEV']]"
   ]
  },
  {
   "cell_type": "code",
   "execution_count": 3,
   "metadata": {
    "colab": {},
    "colab_type": "code",
    "id": "62W388jzbv9h",
    "outputId": "e8a25ecb-1819-49a0-9a33-3fb12fc87ac6"
   },
   "outputs": [
    {
     "data": {
      "text/html": [
       "<div>\n",
       "<style scoped>\n",
       "    .dataframe tbody tr th:only-of-type {\n",
       "        vertical-align: middle;\n",
       "    }\n",
       "\n",
       "    .dataframe tbody tr th {\n",
       "        vertical-align: top;\n",
       "    }\n",
       "\n",
       "    .dataframe thead th {\n",
       "        text-align: right;\n",
       "    }\n",
       "</style>\n",
       "<table border=\"1\" class=\"dataframe\">\n",
       "  <thead>\n",
       "    <tr style=\"text-align: right;\">\n",
       "      <th></th>\n",
       "      <th>count</th>\n",
       "      <th>mean</th>\n",
       "      <th>std</th>\n",
       "      <th>min</th>\n",
       "      <th>25%</th>\n",
       "      <th>50%</th>\n",
       "      <th>75%</th>\n",
       "      <th>max</th>\n",
       "    </tr>\n",
       "  </thead>\n",
       "  <tbody>\n",
       "    <tr>\n",
       "      <th>EMTSUPRT</th>\n",
       "      <td>436221.0</td>\n",
       "      <td>1.974605</td>\n",
       "      <td>1.444904</td>\n",
       "      <td>1.0</td>\n",
       "      <td>1.0</td>\n",
       "      <td>1.0</td>\n",
       "      <td>2.0</td>\n",
       "      <td>9.0</td>\n",
       "    </tr>\n",
       "    <tr>\n",
       "      <th>LSATISFY</th>\n",
       "      <td>435968.0</td>\n",
       "      <td>1.688021</td>\n",
       "      <td>0.973586</td>\n",
       "      <td>1.0</td>\n",
       "      <td>1.0</td>\n",
       "      <td>2.0</td>\n",
       "      <td>2.0</td>\n",
       "      <td>9.0</td>\n",
       "    </tr>\n",
       "    <tr>\n",
       "      <th>ADPLEASR</th>\n",
       "      <td>79466.0</td>\n",
       "      <td>61.909974</td>\n",
       "      <td>38.298421</td>\n",
       "      <td>1.0</td>\n",
       "      <td>10.0</td>\n",
       "      <td>88.0</td>\n",
       "      <td>88.0</td>\n",
       "      <td>99.0</td>\n",
       "    </tr>\n",
       "    <tr>\n",
       "      <th>ADDOWN</th>\n",
       "      <td>79420.0</td>\n",
       "      <td>65.177739</td>\n",
       "      <td>37.122756</td>\n",
       "      <td>1.0</td>\n",
       "      <td>14.0</td>\n",
       "      <td>88.0</td>\n",
       "      <td>88.0</td>\n",
       "      <td>99.0</td>\n",
       "    </tr>\n",
       "    <tr>\n",
       "      <th>ADSLEEP</th>\n",
       "      <td>79391.0</td>\n",
       "      <td>50.676638</td>\n",
       "      <td>40.693882</td>\n",
       "      <td>1.0</td>\n",
       "      <td>5.0</td>\n",
       "      <td>88.0</td>\n",
       "      <td>88.0</td>\n",
       "      <td>99.0</td>\n",
       "    </tr>\n",
       "    <tr>\n",
       "      <th>ADENERGY</th>\n",
       "      <td>79367.0</td>\n",
       "      <td>36.939232</td>\n",
       "      <td>39.828500</td>\n",
       "      <td>1.0</td>\n",
       "      <td>3.0</td>\n",
       "      <td>14.0</td>\n",
       "      <td>88.0</td>\n",
       "      <td>99.0</td>\n",
       "    </tr>\n",
       "    <tr>\n",
       "      <th>ADEAT1</th>\n",
       "      <td>79335.0</td>\n",
       "      <td>59.207676</td>\n",
       "      <td>39.124483</td>\n",
       "      <td>1.0</td>\n",
       "      <td>8.0</td>\n",
       "      <td>88.0</td>\n",
       "      <td>88.0</td>\n",
       "      <td>99.0</td>\n",
       "    </tr>\n",
       "    <tr>\n",
       "      <th>ADFAIL</th>\n",
       "      <td>79298.0</td>\n",
       "      <td>74.269868</td>\n",
       "      <td>30.735371</td>\n",
       "      <td>1.0</td>\n",
       "      <td>88.0</td>\n",
       "      <td>88.0</td>\n",
       "      <td>88.0</td>\n",
       "      <td>99.0</td>\n",
       "    </tr>\n",
       "    <tr>\n",
       "      <th>ADTHINK</th>\n",
       "      <td>79266.0</td>\n",
       "      <td>73.963553</td>\n",
       "      <td>30.872160</td>\n",
       "      <td>1.0</td>\n",
       "      <td>88.0</td>\n",
       "      <td>88.0</td>\n",
       "      <td>88.0</td>\n",
       "      <td>99.0</td>\n",
       "    </tr>\n",
       "    <tr>\n",
       "      <th>ADMOVE</th>\n",
       "      <td>79219.0</td>\n",
       "      <td>79.497684</td>\n",
       "      <td>24.815877</td>\n",
       "      <td>1.0</td>\n",
       "      <td>88.0</td>\n",
       "      <td>88.0</td>\n",
       "      <td>88.0</td>\n",
       "      <td>99.0</td>\n",
       "    </tr>\n",
       "    <tr>\n",
       "      <th>ADANXEV</th>\n",
       "      <td>79160.0</td>\n",
       "      <td>1.892724</td>\n",
       "      <td>0.513281</td>\n",
       "      <td>1.0</td>\n",
       "      <td>2.0</td>\n",
       "      <td>2.0</td>\n",
       "      <td>2.0</td>\n",
       "      <td>9.0</td>\n",
       "    </tr>\n",
       "    <tr>\n",
       "      <th>ADDEPEV</th>\n",
       "      <td>79104.0</td>\n",
       "      <td>1.843459</td>\n",
       "      <td>0.528095</td>\n",
       "      <td>1.0</td>\n",
       "      <td>2.0</td>\n",
       "      <td>2.0</td>\n",
       "      <td>2.0</td>\n",
       "      <td>9.0</td>\n",
       "    </tr>\n",
       "  </tbody>\n",
       "</table>\n",
       "</div>"
      ],
      "text/plain": [
       "             count       mean        std  min   25%   50%   75%   max\n",
       "EMTSUPRT  436221.0   1.974605   1.444904  1.0   1.0   1.0   2.0   9.0\n",
       "LSATISFY  435968.0   1.688021   0.973586  1.0   1.0   2.0   2.0   9.0\n",
       "ADPLEASR   79466.0  61.909974  38.298421  1.0  10.0  88.0  88.0  99.0\n",
       "ADDOWN     79420.0  65.177739  37.122756  1.0  14.0  88.0  88.0  99.0\n",
       "ADSLEEP    79391.0  50.676638  40.693882  1.0   5.0  88.0  88.0  99.0\n",
       "ADENERGY   79367.0  36.939232  39.828500  1.0   3.0  14.0  88.0  99.0\n",
       "ADEAT1     79335.0  59.207676  39.124483  1.0   8.0  88.0  88.0  99.0\n",
       "ADFAIL     79298.0  74.269868  30.735371  1.0  88.0  88.0  88.0  99.0\n",
       "ADTHINK    79266.0  73.963553  30.872160  1.0  88.0  88.0  88.0  99.0\n",
       "ADMOVE     79219.0  79.497684  24.815877  1.0  88.0  88.0  88.0  99.0\n",
       "ADANXEV    79160.0   1.892724   0.513281  1.0   2.0   2.0   2.0   9.0\n",
       "ADDEPEV    79104.0   1.843459   0.528095  1.0   2.0   2.0   2.0   9.0"
      ]
     },
     "execution_count": 3,
     "metadata": {},
     "output_type": "execute_result"
    }
   ],
   "source": [
    "#descriptive statistics\n",
    "df2.describe().T\n"
   ]
  },
  {
   "cell_type": "code",
   "execution_count": 4,
   "metadata": {
    "colab": {},
    "colab_type": "code",
    "id": "YQb5pglwbv9q",
    "outputId": "bcee0b30-644c-4410-e996-bd40bb27b7e8"
   },
   "outputs": [
    {
     "data": {
      "text/plain": [
       "(451075, 12)"
      ]
     },
     "execution_count": 4,
     "metadata": {},
     "output_type": "execute_result"
    }
   ],
   "source": [
    "#shape of dataframe\n",
    "df2.shape"
   ]
  },
  {
   "cell_type": "code",
   "execution_count": null,
   "metadata": {
    "colab": {},
    "colab_type": "code",
    "id": "5sYwO-zRbv9t"
   },
   "outputs": [],
   "source": []
  },
  {
   "cell_type": "code",
   "execution_count": 5,
   "metadata": {
    "colab": {},
    "colab_type": "code",
    "id": "gjJZsTizbv9x",
    "outputId": "394c8596-a079-4a71-a813-14b29cffa210"
   },
   "outputs": [
    {
     "data": {
      "text/plain": [
       "Index(['EMTSUPRT', 'LSATISFY', 'ADPLEASR', 'ADDOWN', 'ADSLEEP', 'ADENERGY',\n",
       "       'ADEAT1', 'ADFAIL', 'ADTHINK', 'ADMOVE', 'ADANXEV', 'ADDEPEV'],\n",
       "      dtype='object')"
      ]
     },
     "execution_count": 5,
     "metadata": {},
     "output_type": "execute_result"
    }
   ],
   "source": [
    "#column names\n",
    "df2.columns"
   ]
  },
  {
   "cell_type": "code",
   "execution_count": 6,
   "metadata": {},
   "outputs": [],
   "source": [
    "#get unique values for each variable"
   ]
  },
  {
   "cell_type": "code",
   "execution_count": 7,
   "metadata": {
    "colab": {},
    "colab_type": "code",
    "id": "gbSh6PfRbv96"
   },
   "outputs": [
    {
     "data": {
      "text/plain": [
       "array([ 5., nan,  1.,  2.,  3.,  7.,  4.,  9.])"
      ]
     },
     "execution_count": 7,
     "metadata": {},
     "output_type": "execute_result"
    }
   ],
   "source": [
    "\n",
    "df2.EMTSUPRT.unique()"
   ]
  },
  {
   "cell_type": "code",
   "execution_count": 8,
   "metadata": {},
   "outputs": [
    {
     "data": {
      "text/plain": [
       "array([ 1., nan,  2.,  3.,  4.,  7.,  9.])"
      ]
     },
     "execution_count": 8,
     "metadata": {},
     "output_type": "execute_result"
    }
   ],
   "source": [
    "df2['LSATISFY'].unique()\n",
    "       "
   ]
  },
  {
   "cell_type": "code",
   "execution_count": 9,
   "metadata": {},
   "outputs": [
    {
     "data": {
      "text/plain": [
       "array([nan, 88.,  1.,  8.,  2., 14.,  7., 77., 10.,  3.,  4.,  5., 99.,\n",
       "       12.,  6.,  9., 11., 13.])"
      ]
     },
     "execution_count": 9,
     "metadata": {},
     "output_type": "execute_result"
    }
   ],
   "source": [
    "df2['ADPLEASR'].unique()"
   ]
  },
  {
   "cell_type": "code",
   "execution_count": 10,
   "metadata": {},
   "outputs": [
    {
     "data": {
      "text/plain": [
       "array([nan, 88.,  1., 14.,  3.,  4.,  2., 10.,  5.,  8., 77.,  7.,  6.,\n",
       "       99.,  9., 12., 13., 11.])"
      ]
     },
     "execution_count": 10,
     "metadata": {},
     "output_type": "execute_result"
    }
   ],
   "source": [
    "df2['ADDOWN'].unique()"
   ]
  },
  {
   "cell_type": "code",
   "execution_count": 11,
   "metadata": {},
   "outputs": [
    {
     "data": {
      "text/plain": [
       "array([nan,  1., 88.,  4.,  2., 10.,  5.,  3.,  9., 14., 99.,  7., 77.,\n",
       "        6., 12., 13.,  8., 11.])"
      ]
     },
     "execution_count": 11,
     "metadata": {},
     "output_type": "execute_result"
    }
   ],
   "source": [
    "df2['ADSLEEP'].unique()"
   ]
  },
  {
   "cell_type": "code",
   "execution_count": 12,
   "metadata": {},
   "outputs": [
    {
     "data": {
      "text/plain": [
       "array([nan,  1.,  3., 88.,  6.,  2.,  5.,  7.,  4., 14.,  8., 13., 10.,\n",
       "       77., 99., 12.,  9., 11.])"
      ]
     },
     "execution_count": 12,
     "metadata": {},
     "output_type": "execute_result"
    }
   ],
   "source": [
    "df2['ADENERGY'].unique()"
   ]
  },
  {
   "cell_type": "code",
   "execution_count": 13,
   "metadata": {},
   "outputs": [
    {
     "data": {
      "text/plain": [
       "array([nan,  2., 88.,  3.,  1.,  7., 10.,  4., 14.,  5.,  8.,  6., 99.,\n",
       "       77., 12.,  9., 11., 13.])"
      ]
     },
     "execution_count": 13,
     "metadata": {},
     "output_type": "execute_result"
    }
   ],
   "source": [
    "df2['ADEAT1'].unique()"
   ]
  },
  {
   "cell_type": "code",
   "execution_count": 14,
   "metadata": {},
   "outputs": [
    {
     "data": {
      "text/plain": [
       "array([nan, 88.,  7.,  3.,  1., 14.,  2., 10.,  9.,  8., 12., 77.,  5.,\n",
       "        4., 99.,  6., 13., 11.])"
      ]
     },
     "execution_count": 14,
     "metadata": {},
     "output_type": "execute_result"
    }
   ],
   "source": [
    "df2['ADFAIL'].unique()"
   ]
  },
  {
   "cell_type": "code",
   "execution_count": 15,
   "metadata": {},
   "outputs": [
    {
     "data": {
      "text/plain": [
       "array([nan, 88.,  4., 10.,  2.,  1.,  6.,  3., 14.,  5., 12.,  7., 77.,\n",
       "       99.,  8., 13., 11.,  9.])"
      ]
     },
     "execution_count": 15,
     "metadata": {},
     "output_type": "execute_result"
    }
   ],
   "source": [
    "df2['ADTHINK'].unique()"
   ]
  },
  {
   "cell_type": "code",
   "execution_count": 16,
   "metadata": {},
   "outputs": [
    {
     "data": {
      "text/plain": [
       "array([nan, 88., 10., 14.,  2.,  1., 77.,  7.,  4.,  5.,  6., 99.,  3.,\n",
       "        8., 12.,  9., 11., 13.])"
      ]
     },
     "execution_count": 16,
     "metadata": {},
     "output_type": "execute_result"
    }
   ],
   "source": [
    "df2['ADMOVE'].unique()"
   ]
  },
  {
   "cell_type": "code",
   "execution_count": 17,
   "metadata": {},
   "outputs": [
    {
     "data": {
      "text/plain": [
       "array([nan,  2.,  1.,  9.,  7.])"
      ]
     },
     "execution_count": 17,
     "metadata": {},
     "output_type": "execute_result"
    }
   ],
   "source": [
    "df2['ADANXEV'].unique()"
   ]
  },
  {
   "cell_type": "code",
   "execution_count": 18,
   "metadata": {},
   "outputs": [
    {
     "data": {
      "text/plain": [
       "array([nan,  2.,  1.,  9.,  7.])"
      ]
     },
     "execution_count": 18,
     "metadata": {},
     "output_type": "execute_result"
    }
   ],
   "source": [
    "df2['ADDEPEV'].unique()"
   ]
  },
  {
   "cell_type": "code",
   "execution_count": 19,
   "metadata": {},
   "outputs": [
    {
     "data": {
      "text/html": [
       "<div>\n",
       "<style scoped>\n",
       "    .dataframe tbody tr th:only-of-type {\n",
       "        vertical-align: middle;\n",
       "    }\n",
       "\n",
       "    .dataframe tbody tr th {\n",
       "        vertical-align: top;\n",
       "    }\n",
       "\n",
       "    .dataframe thead th {\n",
       "        text-align: right;\n",
       "    }\n",
       "</style>\n",
       "<table border=\"1\" class=\"dataframe\">\n",
       "  <thead>\n",
       "    <tr style=\"text-align: right;\">\n",
       "      <th></th>\n",
       "      <th>EMTSUPRT</th>\n",
       "      <th>LSATISFY</th>\n",
       "      <th>ADPLEASR</th>\n",
       "      <th>ADDOWN</th>\n",
       "      <th>ADSLEEP</th>\n",
       "      <th>ADENERGY</th>\n",
       "      <th>ADEAT1</th>\n",
       "      <th>ADFAIL</th>\n",
       "      <th>ADTHINK</th>\n",
       "      <th>ADMOVE</th>\n",
       "      <th>ADANXEV</th>\n",
       "      <th>ADDEPEV</th>\n",
       "    </tr>\n",
       "  </thead>\n",
       "  <tbody>\n",
       "    <tr>\n",
       "      <th>count</th>\n",
       "      <td>436221.000000</td>\n",
       "      <td>435968.000000</td>\n",
       "      <td>79466.000000</td>\n",
       "      <td>79420.000000</td>\n",
       "      <td>79391.000000</td>\n",
       "      <td>79367.000000</td>\n",
       "      <td>79335.000000</td>\n",
       "      <td>79298.000000</td>\n",
       "      <td>79266.000000</td>\n",
       "      <td>79219.000000</td>\n",
       "      <td>79160.000000</td>\n",
       "      <td>79104.000000</td>\n",
       "    </tr>\n",
       "    <tr>\n",
       "      <th>mean</th>\n",
       "      <td>1.974605</td>\n",
       "      <td>1.688021</td>\n",
       "      <td>61.909974</td>\n",
       "      <td>65.177739</td>\n",
       "      <td>50.676638</td>\n",
       "      <td>36.939232</td>\n",
       "      <td>59.207676</td>\n",
       "      <td>74.269868</td>\n",
       "      <td>73.963553</td>\n",
       "      <td>79.497684</td>\n",
       "      <td>1.892724</td>\n",
       "      <td>1.843459</td>\n",
       "    </tr>\n",
       "    <tr>\n",
       "      <th>std</th>\n",
       "      <td>1.444904</td>\n",
       "      <td>0.973586</td>\n",
       "      <td>38.298421</td>\n",
       "      <td>37.122756</td>\n",
       "      <td>40.693882</td>\n",
       "      <td>39.828500</td>\n",
       "      <td>39.124483</td>\n",
       "      <td>30.735371</td>\n",
       "      <td>30.872160</td>\n",
       "      <td>24.815877</td>\n",
       "      <td>0.513281</td>\n",
       "      <td>0.528095</td>\n",
       "    </tr>\n",
       "    <tr>\n",
       "      <th>min</th>\n",
       "      <td>1.000000</td>\n",
       "      <td>1.000000</td>\n",
       "      <td>1.000000</td>\n",
       "      <td>1.000000</td>\n",
       "      <td>1.000000</td>\n",
       "      <td>1.000000</td>\n",
       "      <td>1.000000</td>\n",
       "      <td>1.000000</td>\n",
       "      <td>1.000000</td>\n",
       "      <td>1.000000</td>\n",
       "      <td>1.000000</td>\n",
       "      <td>1.000000</td>\n",
       "    </tr>\n",
       "    <tr>\n",
       "      <th>25%</th>\n",
       "      <td>1.000000</td>\n",
       "      <td>1.000000</td>\n",
       "      <td>10.000000</td>\n",
       "      <td>14.000000</td>\n",
       "      <td>5.000000</td>\n",
       "      <td>3.000000</td>\n",
       "      <td>8.000000</td>\n",
       "      <td>88.000000</td>\n",
       "      <td>88.000000</td>\n",
       "      <td>88.000000</td>\n",
       "      <td>2.000000</td>\n",
       "      <td>2.000000</td>\n",
       "    </tr>\n",
       "    <tr>\n",
       "      <th>50%</th>\n",
       "      <td>1.000000</td>\n",
       "      <td>2.000000</td>\n",
       "      <td>88.000000</td>\n",
       "      <td>88.000000</td>\n",
       "      <td>88.000000</td>\n",
       "      <td>14.000000</td>\n",
       "      <td>88.000000</td>\n",
       "      <td>88.000000</td>\n",
       "      <td>88.000000</td>\n",
       "      <td>88.000000</td>\n",
       "      <td>2.000000</td>\n",
       "      <td>2.000000</td>\n",
       "    </tr>\n",
       "    <tr>\n",
       "      <th>75%</th>\n",
       "      <td>2.000000</td>\n",
       "      <td>2.000000</td>\n",
       "      <td>88.000000</td>\n",
       "      <td>88.000000</td>\n",
       "      <td>88.000000</td>\n",
       "      <td>88.000000</td>\n",
       "      <td>88.000000</td>\n",
       "      <td>88.000000</td>\n",
       "      <td>88.000000</td>\n",
       "      <td>88.000000</td>\n",
       "      <td>2.000000</td>\n",
       "      <td>2.000000</td>\n",
       "    </tr>\n",
       "    <tr>\n",
       "      <th>max</th>\n",
       "      <td>9.000000</td>\n",
       "      <td>9.000000</td>\n",
       "      <td>99.000000</td>\n",
       "      <td>99.000000</td>\n",
       "      <td>99.000000</td>\n",
       "      <td>99.000000</td>\n",
       "      <td>99.000000</td>\n",
       "      <td>99.000000</td>\n",
       "      <td>99.000000</td>\n",
       "      <td>99.000000</td>\n",
       "      <td>9.000000</td>\n",
       "      <td>9.000000</td>\n",
       "    </tr>\n",
       "  </tbody>\n",
       "</table>\n",
       "</div>"
      ],
      "text/plain": [
       "            EMTSUPRT       LSATISFY      ADPLEASR        ADDOWN       ADSLEEP  \\\n",
       "count  436221.000000  435968.000000  79466.000000  79420.000000  79391.000000   \n",
       "mean        1.974605       1.688021     61.909974     65.177739     50.676638   \n",
       "std         1.444904       0.973586     38.298421     37.122756     40.693882   \n",
       "min         1.000000       1.000000      1.000000      1.000000      1.000000   \n",
       "25%         1.000000       1.000000     10.000000     14.000000      5.000000   \n",
       "50%         1.000000       2.000000     88.000000     88.000000     88.000000   \n",
       "75%         2.000000       2.000000     88.000000     88.000000     88.000000   \n",
       "max         9.000000       9.000000     99.000000     99.000000     99.000000   \n",
       "\n",
       "           ADENERGY        ADEAT1        ADFAIL       ADTHINK        ADMOVE  \\\n",
       "count  79367.000000  79335.000000  79298.000000  79266.000000  79219.000000   \n",
       "mean      36.939232     59.207676     74.269868     73.963553     79.497684   \n",
       "std       39.828500     39.124483     30.735371     30.872160     24.815877   \n",
       "min        1.000000      1.000000      1.000000      1.000000      1.000000   \n",
       "25%        3.000000      8.000000     88.000000     88.000000     88.000000   \n",
       "50%       14.000000     88.000000     88.000000     88.000000     88.000000   \n",
       "75%       88.000000     88.000000     88.000000     88.000000     88.000000   \n",
       "max       99.000000     99.000000     99.000000     99.000000     99.000000   \n",
       "\n",
       "            ADANXEV       ADDEPEV  \n",
       "count  79160.000000  79104.000000  \n",
       "mean       1.892724      1.843459  \n",
       "std        0.513281      0.528095  \n",
       "min        1.000000      1.000000  \n",
       "25%        2.000000      2.000000  \n",
       "50%        2.000000      2.000000  \n",
       "75%        2.000000      2.000000  \n",
       "max        9.000000      9.000000  "
      ]
     },
     "execution_count": 19,
     "metadata": {},
     "output_type": "execute_result"
    }
   ],
   "source": [
    "#create a separate df with mental health related variables\n",
    "mental_health=df2[['EMTSUPRT', 'LSATISFY' , 'ADPLEASR','ADDOWN', 'ADSLEEP', 'ADENERGY', 'ADEAT1', 'ADFAIL', 'ADTHINK','ADMOVE', 'ADANXEV', 'ADDEPEV']]\n",
    "mental_health.describe()\n"
   ]
  },
  {
   "cell_type": "code",
   "execution_count": 20,
   "metadata": {},
   "outputs": [
    {
     "data": {
      "text/plain": [
       "array([nan,  0.,  1.])"
      ]
     },
     "execution_count": 20,
     "metadata": {},
     "output_type": "execute_result"
    }
   ],
   "source": [
    "#88 represents 'None', so replace with 0 for all applicable columns\n",
    "import numpy as np\n",
    "mental_health.describe()\n",
    "mental_health.ADPLEASR.unique()\n",
    "cols=list(mental_health.columns)\n",
    "cols\n",
    "\n",
    "\n",
    "mental_health.replace(88, 0, inplace=True)\n",
    "mental_health.replace(77, np.nan, inplace=True)\n",
    "mental_health.replace(99, np.nan, inplace=True)\n",
    "mental_health['ADDEPEV'].replace(to_replace=7, value=np.nan, inplace=True)\n",
    "mental_health['ADDEPEV'].replace(to_replace=9, value=np.nan, inplace=True)\n",
    "mental_health['ADDEPEV'].replace(to_replace=2, value=0, inplace=True)\n",
    "\n",
    "mental_health.EMTSUPRT.unique()\n",
    "mental_health.LSATISFY.unique()\n",
    "mental_health['ADDEPEV'].unique()\n",
    "\n"
   ]
  },
  {
   "cell_type": "code",
   "execution_count": 21,
   "metadata": {},
   "outputs": [
    {
     "data": {
      "text/plain": [
       "Index(['EMTSUPRT', 'LSATISFY', 'ADPLEASR', 'ADDOWN', 'ADSLEEP', 'ADENERGY',\n",
       "       'ADEAT1', 'ADFAIL', 'ADTHINK', 'ADMOVE', 'ADANXEV', 'ADDEPEV'],\n",
       "      dtype='object')"
      ]
     },
     "execution_count": 21,
     "metadata": {},
     "output_type": "execute_result"
    }
   ],
   "source": [
    "mental_health.columns\n"
   ]
  },
  {
   "cell_type": "code",
   "execution_count": 22,
   "metadata": {},
   "outputs": [],
   "source": [
    "#display number of missing values\n",
    "nas=pd.DataFrame(mental_health.isnull().sum().sort_values(ascending=False),columns = ['Missing'])\n",
    "pos = nas['Missing'] > 0\n",
    "nas[pos]\n",
    "mental_health.dropna(inplace=True)"
   ]
  },
  {
   "cell_type": "code",
   "execution_count": 23,
   "metadata": {},
   "outputs": [
    {
     "data": {
      "text/html": [
       "<div>\n",
       "<style scoped>\n",
       "    .dataframe tbody tr th:only-of-type {\n",
       "        vertical-align: middle;\n",
       "    }\n",
       "\n",
       "    .dataframe tbody tr th {\n",
       "        vertical-align: top;\n",
       "    }\n",
       "\n",
       "    .dataframe thead th {\n",
       "        text-align: right;\n",
       "    }\n",
       "</style>\n",
       "<table border=\"1\" class=\"dataframe\">\n",
       "  <thead>\n",
       "    <tr style=\"text-align: right;\">\n",
       "      <th></th>\n",
       "      <th>Missing</th>\n",
       "    </tr>\n",
       "  </thead>\n",
       "  <tbody>\n",
       "  </tbody>\n",
       "</table>\n",
       "</div>"
      ],
      "text/plain": [
       "Empty DataFrame\n",
       "Columns: [Missing]\n",
       "Index: []"
      ]
     },
     "execution_count": 23,
     "metadata": {},
     "output_type": "execute_result"
    }
   ],
   "source": [
    "nas=pd.DataFrame(mental_health.isnull().sum().sort_values(ascending=False),columns = ['Missing'])\n",
    "pos = nas['Missing'] > 0\n",
    "nas[pos]"
   ]
  },
  {
   "cell_type": "code",
   "execution_count": 24,
   "metadata": {},
   "outputs": [
    {
     "data": {
      "text/html": [
       "<div>\n",
       "<style scoped>\n",
       "    .dataframe tbody tr th:only-of-type {\n",
       "        vertical-align: middle;\n",
       "    }\n",
       "\n",
       "    .dataframe tbody tr th {\n",
       "        vertical-align: top;\n",
       "    }\n",
       "\n",
       "    .dataframe thead th {\n",
       "        text-align: right;\n",
       "    }\n",
       "</style>\n",
       "<table border=\"1\" class=\"dataframe\">\n",
       "  <thead>\n",
       "    <tr style=\"text-align: right;\">\n",
       "      <th></th>\n",
       "      <th>EMTSUPRT</th>\n",
       "      <th>LSATISFY</th>\n",
       "      <th>ADPLEASR</th>\n",
       "      <th>ADDOWN</th>\n",
       "      <th>ADSLEEP</th>\n",
       "      <th>ADENERGY</th>\n",
       "      <th>ADEAT1</th>\n",
       "      <th>ADFAIL</th>\n",
       "      <th>ADTHINK</th>\n",
       "      <th>ADMOVE</th>\n",
       "      <th>ADANXEV</th>\n",
       "      <th>ADDEPEV</th>\n",
       "    </tr>\n",
       "  </thead>\n",
       "  <tbody>\n",
       "    <tr>\n",
       "      <th>count</th>\n",
       "      <td>72432.000000</td>\n",
       "      <td>72432.000000</td>\n",
       "      <td>72432.000000</td>\n",
       "      <td>72432.000000</td>\n",
       "      <td>72432.000000</td>\n",
       "      <td>72432.000000</td>\n",
       "      <td>72432.000000</td>\n",
       "      <td>72432.000000</td>\n",
       "      <td>72432.000000</td>\n",
       "      <td>72432.000000</td>\n",
       "      <td>72432.000000</td>\n",
       "      <td>72432.000000</td>\n",
       "    </tr>\n",
       "    <tr>\n",
       "      <th>mean</th>\n",
       "      <td>1.869174</td>\n",
       "      <td>1.605244</td>\n",
       "      <td>1.656851</td>\n",
       "      <td>1.279172</td>\n",
       "      <td>2.902971</td>\n",
       "      <td>3.638516</td>\n",
       "      <td>2.092625</td>\n",
       "      <td>0.901770</td>\n",
       "      <td>1.004846</td>\n",
       "      <td>0.622184</td>\n",
       "      <td>1.880288</td>\n",
       "      <td>0.176745</td>\n",
       "    </tr>\n",
       "    <tr>\n",
       "      <th>std</th>\n",
       "      <td>1.263659</td>\n",
       "      <td>0.722140</td>\n",
       "      <td>3.488507</td>\n",
       "      <td>3.079750</td>\n",
       "      <td>4.559253</td>\n",
       "      <td>4.694482</td>\n",
       "      <td>3.981459</td>\n",
       "      <td>2.805918</td>\n",
       "      <td>2.962154</td>\n",
       "      <td>2.390097</td>\n",
       "      <td>0.414177</td>\n",
       "      <td>0.381455</td>\n",
       "    </tr>\n",
       "    <tr>\n",
       "      <th>min</th>\n",
       "      <td>1.000000</td>\n",
       "      <td>1.000000</td>\n",
       "      <td>0.000000</td>\n",
       "      <td>0.000000</td>\n",
       "      <td>0.000000</td>\n",
       "      <td>0.000000</td>\n",
       "      <td>0.000000</td>\n",
       "      <td>0.000000</td>\n",
       "      <td>0.000000</td>\n",
       "      <td>0.000000</td>\n",
       "      <td>1.000000</td>\n",
       "      <td>0.000000</td>\n",
       "    </tr>\n",
       "    <tr>\n",
       "      <th>25%</th>\n",
       "      <td>1.000000</td>\n",
       "      <td>1.000000</td>\n",
       "      <td>0.000000</td>\n",
       "      <td>0.000000</td>\n",
       "      <td>0.000000</td>\n",
       "      <td>0.000000</td>\n",
       "      <td>0.000000</td>\n",
       "      <td>0.000000</td>\n",
       "      <td>0.000000</td>\n",
       "      <td>0.000000</td>\n",
       "      <td>2.000000</td>\n",
       "      <td>0.000000</td>\n",
       "    </tr>\n",
       "    <tr>\n",
       "      <th>50%</th>\n",
       "      <td>1.000000</td>\n",
       "      <td>2.000000</td>\n",
       "      <td>0.000000</td>\n",
       "      <td>0.000000</td>\n",
       "      <td>0.000000</td>\n",
       "      <td>2.000000</td>\n",
       "      <td>0.000000</td>\n",
       "      <td>0.000000</td>\n",
       "      <td>0.000000</td>\n",
       "      <td>0.000000</td>\n",
       "      <td>2.000000</td>\n",
       "      <td>0.000000</td>\n",
       "    </tr>\n",
       "    <tr>\n",
       "      <th>75%</th>\n",
       "      <td>2.000000</td>\n",
       "      <td>2.000000</td>\n",
       "      <td>2.000000</td>\n",
       "      <td>1.000000</td>\n",
       "      <td>4.000000</td>\n",
       "      <td>5.000000</td>\n",
       "      <td>2.000000</td>\n",
       "      <td>0.000000</td>\n",
       "      <td>0.000000</td>\n",
       "      <td>0.000000</td>\n",
       "      <td>2.000000</td>\n",
       "      <td>0.000000</td>\n",
       "    </tr>\n",
       "    <tr>\n",
       "      <th>max</th>\n",
       "      <td>9.000000</td>\n",
       "      <td>9.000000</td>\n",
       "      <td>14.000000</td>\n",
       "      <td>14.000000</td>\n",
       "      <td>14.000000</td>\n",
       "      <td>14.000000</td>\n",
       "      <td>14.000000</td>\n",
       "      <td>14.000000</td>\n",
       "      <td>14.000000</td>\n",
       "      <td>14.000000</td>\n",
       "      <td>9.000000</td>\n",
       "      <td>1.000000</td>\n",
       "    </tr>\n",
       "  </tbody>\n",
       "</table>\n",
       "</div>"
      ],
      "text/plain": [
       "           EMTSUPRT      LSATISFY      ADPLEASR        ADDOWN       ADSLEEP  \\\n",
       "count  72432.000000  72432.000000  72432.000000  72432.000000  72432.000000   \n",
       "mean       1.869174      1.605244      1.656851      1.279172      2.902971   \n",
       "std        1.263659      0.722140      3.488507      3.079750      4.559253   \n",
       "min        1.000000      1.000000      0.000000      0.000000      0.000000   \n",
       "25%        1.000000      1.000000      0.000000      0.000000      0.000000   \n",
       "50%        1.000000      2.000000      0.000000      0.000000      0.000000   \n",
       "75%        2.000000      2.000000      2.000000      1.000000      4.000000   \n",
       "max        9.000000      9.000000     14.000000     14.000000     14.000000   \n",
       "\n",
       "           ADENERGY        ADEAT1        ADFAIL       ADTHINK        ADMOVE  \\\n",
       "count  72432.000000  72432.000000  72432.000000  72432.000000  72432.000000   \n",
       "mean       3.638516      2.092625      0.901770      1.004846      0.622184   \n",
       "std        4.694482      3.981459      2.805918      2.962154      2.390097   \n",
       "min        0.000000      0.000000      0.000000      0.000000      0.000000   \n",
       "25%        0.000000      0.000000      0.000000      0.000000      0.000000   \n",
       "50%        2.000000      0.000000      0.000000      0.000000      0.000000   \n",
       "75%        5.000000      2.000000      0.000000      0.000000      0.000000   \n",
       "max       14.000000     14.000000     14.000000     14.000000     14.000000   \n",
       "\n",
       "            ADANXEV       ADDEPEV  \n",
       "count  72432.000000  72432.000000  \n",
       "mean       1.880288      0.176745  \n",
       "std        0.414177      0.381455  \n",
       "min        1.000000      0.000000  \n",
       "25%        2.000000      0.000000  \n",
       "50%        2.000000      0.000000  \n",
       "75%        2.000000      0.000000  \n",
       "max        9.000000      1.000000  "
      ]
     },
     "execution_count": 24,
     "metadata": {},
     "output_type": "execute_result"
    }
   ],
   "source": [
    "\n",
    "mental_health.describe()"
   ]
  },
  {
   "cell_type": "code",
   "execution_count": 25,
   "metadata": {
    "colab": {},
    "colab_type": "code",
    "id": "CvpinwNIbv-k",
    "outputId": "b6ae85e9-8fb0-4420-8ced-6fc8ae538c01"
   },
   "outputs": [
    {
     "data": {
      "text/plain": [
       "<matplotlib.axes._subplots.AxesSubplot at 0x1d00bf03b08>"
      ]
     },
     "execution_count": 25,
     "metadata": {},
     "output_type": "execute_result"
    },
    {
     "data": {
      "image/png": "[encoded data removed]",
      "text/plain": [
       "<Figure size 1080x648 with 1 Axes>"
      ]
     },
     "metadata": {
      "needs_background": "light"
     },
     "output_type": "display_data"
    }
   ],
   "source": [
    "#work with categorical EDA Bar Charts\n",
    "mental_health['EMTSUPRT'].value_counts().plot(kind='bar')\n"
   ]
  },
  {
   "cell_type": "code",
   "execution_count": 26,
   "metadata": {
    "colab": {},
    "colab_type": "code",
    "id": "zHyRb_UmmHIa",
    "outputId": "5ddc2128-7a65-4d1d-a5c9-182b2d9c8421"
   },
   "outputs": [
    {
     "data": {
      "text/plain": [
       "<matplotlib.axes._subplots.AxesSubplot at 0x1d00d293188>"
      ]
     },
     "execution_count": 26,
     "metadata": {},
     "output_type": "execute_result"
    },
    {
     "data": {
      "image/png": "[encoded data removed]",
      "text/plain": [
       "<Figure size 1080x648 with 1 Axes>"
      ]
     },
     "metadata": {
      "needs_background": "light"
     },
     "output_type": "display_data"
    }
   ],
   "source": [
    "#work with df2 for categorical EDA\n",
    "mental_health['LSATISFY'].value_counts().plot(kind='bar')"
   ]
  },
  {
   "cell_type": "code",
   "execution_count": 27,
   "metadata": {
    "colab": {},
    "colab_type": "code",
    "id": "B9x7CNvRmHIe",
    "outputId": "92e965b9-1822-459e-fc3d-cfd81fa29483"
   },
   "outputs": [
    {
     "data": {
      "text/plain": [
       "<matplotlib.axes._subplots.AxesSubplot at 0x1d00ceacd48>"
      ]
     },
     "execution_count": 27,
     "metadata": {},
     "output_type": "execute_result"
    },
    {
     "data": {
      "image/png": "[encoded data removed]",
      "text/plain": [
       "<Figure size 1080x648 with 1 Axes>"
      ]
     },
     "metadata": {
      "needs_background": "light"
     },
     "output_type": "display_data"
    }
   ],
   "source": [
    "mental_health['ADANXEV'].value_counts().plot(kind='bar')"
   ]
  },
  {
   "cell_type": "code",
   "execution_count": 28,
   "metadata": {
    "colab": {},
    "colab_type": "code",
    "id": "DVD71uITmHIi",
    "outputId": "4a7e69e4-6aa5-41ca-f0bc-78dae29506a2"
   },
   "outputs": [
    {
     "data": {
      "text/plain": [
       "<matplotlib.axes._subplots.AxesSubplot at 0x1d00c9fc308>"
      ]
     },
     "execution_count": 28,
     "metadata": {},
     "output_type": "execute_result"
    },
    {
     "data": {
      "image/png": "[encoded data removed]",
      "text/plain": [
       "<Figure size 1080x648 with 1 Axes>"
      ]
     },
     "metadata": {
      "needs_background": "light"
     },
     "output_type": "display_data"
    }
   ],
   "source": [
    "mental_health['ADDEPEV'].value_counts().plot(kind='bar')"
   ]
  },
  {
   "cell_type": "code",
   "execution_count": 29,
   "metadata": {
    "colab": {},
    "colab_type": "code",
    "id": "Wu5dcEklmHJI",
    "outputId": "78923adb-71eb-4445-a14a-5401cbe9899c"
   },
   "outputs": [
    {
     "data": {
      "image/png": "[encoded data removed]",
      "text/plain": [
       "<Figure size 1080x648 with 2 Axes>"
      ]
     },
     "metadata": {
      "needs_background": "light"
     },
     "output_type": "display_data"
    },
    {
     "data": {
      "text/plain": [
       "<Figure size 1440x1440 with 0 Axes>"
      ]
     },
     "metadata": {},
     "output_type": "display_data"
    }
   ],
   "source": [
    "import pandas as pd\n",
    "import matplotlib.pyplot as plt\n",
    "\n",
    "import seaborn as sns\n",
    "\n",
    "corrMatrix = mental_health.corr()\n",
    "sns.heatmap(corrMatrix, annot=True, cmap='RdBu')\n",
    "plt.figure(figsize=(20,20))\n",
    "plt.show()\n",
    "#focus on the AD items as predictors of ADDEPEV"
   ]
  },
  {
   "cell_type": "code",
   "execution_count": 30,
   "metadata": {},
   "outputs": [
    {
     "data": {
      "text/plain": [
       "<matplotlib.axes._subplots.AxesSubplot at 0x1d00e574508>"
      ]
     },
     "execution_count": 30,
     "metadata": {},
     "output_type": "execute_result"
    },
    {
     "data": {
      "image/png": "[encoded data removed]",
      "text/plain": [
       "<Figure size 1080x648 with 1 Axes>"
      ]
     },
     "metadata": {
      "needs_background": "light"
     },
     "output_type": "display_data"
    }
   ],
   "source": [
    "sns.boxplot(data = mental_health, x='ADDEPEV', y='ADPLEASR')\n",
    "#people who reported depression had more days with little pleasure\n"
   ]
  },
  {
   "cell_type": "code",
   "execution_count": 31,
   "metadata": {},
   "outputs": [
    {
     "data": {
      "text/plain": [
       "<matplotlib.axes._subplots.AxesSubplot at 0x1d00c7b27c8>"
      ]
     },
     "execution_count": 31,
     "metadata": {},
     "output_type": "execute_result"
    },
    {
     "data": {
      "image/png": "[encoded data removed]",
      "text/plain": [
       "<Figure size 1080x648 with 1 Axes>"
      ]
     },
     "metadata": {
      "needs_background": "light"
     },
     "output_type": "display_data"
    }
   ],
   "source": [
    "sns.violinplot(data = mental_health, x='ADDEPEV', y='ADPLEASR')\n",
    "#most of the people who didn't get diagnosed with depression reported 0 days of little pleasure"
   ]
  },
  {
   "cell_type": "code",
   "execution_count": 32,
   "metadata": {
    "colab": {},
    "colab_type": "code",
    "id": "MhwFgD4oxy3Y",
    "outputId": "f1aad2fe-7e4d-45f7-dab5-983670e31e62"
   },
   "outputs": [
    {
     "data": {
      "text/plain": [
       "<matplotlib.axes._subplots.AxesSubplot at 0x1d00c7ea488>"
      ]
     },
     "execution_count": 32,
     "metadata": {},
     "output_type": "execute_result"
    },
    {
     "data": {
      "image/png": "[encoded data removed]",
      "text/plain": [
       "<Figure size 1080x648 with 1 Axes>"
      ]
     },
     "metadata": {
      "needs_background": "light"
     },
     "output_type": "display_data"
    }
   ],
   "source": [
    "sns.boxplot(data = mental_health, x='ADDEPEV', y='ADDOWN')\n",
    "#people who reported depression had more days FEELING DOWN DEPRESSED OR HOPELESS"
   ]
  },
  {
   "cell_type": "code",
   "execution_count": 33,
   "metadata": {},
   "outputs": [
    {
     "data": {
      "text/plain": [
       "<matplotlib.axes._subplots.AxesSubplot at 0x1d00c86b108>"
      ]
     },
     "execution_count": 33,
     "metadata": {},
     "output_type": "execute_result"
    },
    {
     "data": {
      "image/png": "[encoded data removed]",
      "text/plain": [
       "<Figure size 1080x648 with 1 Axes>"
      ]
     },
     "metadata": {
      "needs_background": "light"
     },
     "output_type": "display_data"
    }
   ],
   "source": [
    "sns.violinplot(data = mental_health, x='ADDEPEV', y='ADDOWN')\n",
    "#most of the people who didn't get diagnosed with depression reported 0 days of feeling down, depressed or hopeless"
   ]
  },
  {
   "cell_type": "code",
   "execution_count": 34,
   "metadata": {
    "colab": {},
    "colab_type": "code",
    "id": "F2PSOMz4xy3a",
    "outputId": "69517ca5-7600-4b98-d5c2-c257ace1b396"
   },
   "outputs": [
    {
     "data": {
      "text/plain": [
       "<matplotlib.axes._subplots.AxesSubplot at 0x1d00c853808>"
      ]
     },
     "execution_count": 34,
     "metadata": {},
     "output_type": "execute_result"
    },
    {
     "data": {
      "image/png": "[encoded data removed]",
      "text/plain": [
       "<Figure size 1080x648 with 1 Axes>"
      ]
     },
     "metadata": {
      "needs_background": "light"
     },
     "output_type": "display_data"
    }
   ],
   "source": [
    "sns.boxplot(data = mental_health, x='ADDEPEV', y='ADSLEEP')\n",
    "#people who reported depression had greater variability in sleeping patterns"
   ]
  },
  {
   "cell_type": "code",
   "execution_count": 35,
   "metadata": {},
   "outputs": [
    {
     "data": {
      "text/plain": [
       "<matplotlib.axes._subplots.AxesSubplot at 0x1d00c9de188>"
      ]
     },
     "execution_count": 35,
     "metadata": {},
     "output_type": "execute_result"
    },
    {
     "data": {
      "image/png": "[encoded data removed]",
      "text/plain": [
       "<Figure size 1080x648 with 1 Axes>"
      ]
     },
     "metadata": {
      "needs_background": "light"
     },
     "output_type": "display_data"
    }
   ],
   "source": [
    "sns.violinplot(data = mental_health, x='ADDEPEV', y='ADSLEEP')\n",
    "#answers were more dispersed for those with depression; most people without depression had good sleep"
   ]
  },
  {
   "cell_type": "code",
   "execution_count": 36,
   "metadata": {
    "colab": {},
    "colab_type": "code",
    "id": "pHZSTLM_xy3c",
    "outputId": "0c081d32-3562-43aa-b3b4-b70d5529aa17"
   },
   "outputs": [
    {
     "data": {
      "text/plain": [
       "<matplotlib.axes._subplots.AxesSubplot at 0x1d00e8ebe48>"
      ]
     },
     "execution_count": 36,
     "metadata": {},
     "output_type": "execute_result"
    },
    {
     "data": {
      "image/png": "[encoded data removed]",
      "text/plain": [
       "<Figure size 1080x648 with 1 Axes>"
      ]
     },
     "metadata": {
      "needs_background": "light"
     },
     "output_type": "display_data"
    }
   ],
   "source": [
    "sns.boxplot(data = mental_health, x='ADDEPEV', y='ADENERGY')\n",
    "#people who reported depression had more days that they felt tired; people without depression were less tired"
   ]
  },
  {
   "cell_type": "code",
   "execution_count": 37,
   "metadata": {},
   "outputs": [
    {
     "data": {
      "text/plain": [
       "<matplotlib.axes._subplots.AxesSubplot at 0x1d00e976388>"
      ]
     },
     "execution_count": 37,
     "metadata": {},
     "output_type": "execute_result"
    },
    {
     "data": {
      "image/png": "[encoded data removed]",
      "text/plain": [
       "<Figure size 1080x648 with 1 Axes>"
      ]
     },
     "metadata": {
      "needs_background": "light"
     },
     "output_type": "display_data"
    }
   ],
   "source": [
    "sns.violinplot(data = mental_health, x='ADDEPEV', y='ADENERGY')\n",
    "#most people without depression weren't tired, but a large proportion of those depressed had trouble with energy"
   ]
  },
  {
   "cell_type": "code",
   "execution_count": 38,
   "metadata": {
    "colab": {},
    "colab_type": "code",
    "id": "pHZSTLM_xy3c",
    "outputId": "0c081d32-3562-43aa-b3b4-b70d5529aa17"
   },
   "outputs": [
    {
     "data": {
      "text/plain": [
       "<matplotlib.axes._subplots.AxesSubplot at 0x1d00ebb0a08>"
      ]
     },
     "execution_count": 38,
     "metadata": {},
     "output_type": "execute_result"
    },
    {
     "data": {
      "image/png": "[encoded data removed]",
      "text/plain": [
       "<Figure size 1080x648 with 1 Axes>"
      ]
     },
     "metadata": {
      "needs_background": "light"
     },
     "output_type": "display_data"
    }
   ],
   "source": [
    "sns.boxplot(data = mental_health, x='ADDEPEV', y='ADEAT1')\n",
    "#people who reported depression had more days that they ate too much or too little"
   ]
  },
  {
   "cell_type": "code",
   "execution_count": 39,
   "metadata": {},
   "outputs": [
    {
     "data": {
      "text/plain": [
       "<matplotlib.axes._subplots.AxesSubplot at 0x1d06b6c9a08>"
      ]
     },
     "execution_count": 39,
     "metadata": {},
     "output_type": "execute_result"
    },
    {
     "data": {
      "image/png": "[encoded data removed]",
      "text/plain": [
       "<Figure size 1080x648 with 1 Axes>"
      ]
     },
     "metadata": {
      "needs_background": "light"
     },
     "output_type": "display_data"
    }
   ],
   "source": [
    "sns.violinplot(data = mental_health, x='ADDEPEV', y='ADEAT1')\n",
    "#most people without depression didn't have trouble eating"
   ]
  },
  {
   "cell_type": "code",
   "execution_count": 40,
   "metadata": {
    "colab": {},
    "colab_type": "code",
    "id": "pHZSTLM_xy3c",
    "outputId": "0c081d32-3562-43aa-b3b4-b70d5529aa17"
   },
   "outputs": [
    {
     "data": {
      "text/plain": [
       "<matplotlib.axes._subplots.AxesSubplot at 0x1d06c704588>"
      ]
     },
     "execution_count": 40,
     "metadata": {},
     "output_type": "execute_result"
    },
    {
     "data": {
      "image/png": "[encoded data removed]",
      "text/plain": [
       "<Figure size 1080x648 with 1 Axes>"
      ]
     },
     "metadata": {
      "needs_background": "light"
     },
     "output_type": "display_data"
    }
   ],
   "source": [
    "sns.boxplot(data = mental_health, x='ADDEPEV', y='ADFAIL')\n",
    "#people who reported depression had more days that they felt like a failure"
   ]
  },
  {
   "cell_type": "code",
   "execution_count": 41,
   "metadata": {},
   "outputs": [
    {
     "data": {
      "text/plain": [
       "<matplotlib.axes._subplots.AxesSubplot at 0x1d00c80fd88>"
      ]
     },
     "execution_count": 41,
     "metadata": {},
     "output_type": "execute_result"
    },
    {
     "data": {
      "image/png": "[encoded data removed]",
      "text/plain": [
       "<Figure size 1080x648 with 1 Axes>"
      ]
     },
     "metadata": {
      "needs_background": "light"
     },
     "output_type": "display_data"
    }
   ],
   "source": [
    "sns.violinplot(data = mental_health, x='ADDEPEV', y='ADFAIL')\n",
    "#most people without depression didn't feel like a failure"
   ]
  },
  {
   "cell_type": "code",
   "execution_count": 42,
   "metadata": {},
   "outputs": [
    {
     "data": {
      "text/plain": [
       "<matplotlib.axes._subplots.AxesSubplot at 0x1d06c31d6c8>"
      ]
     },
     "execution_count": 42,
     "metadata": {},
     "output_type": "execute_result"
    },
    {
     "data": {
      "image/png": "[encoded data removed]",
      "text/plain": [
       "<Figure size 1080x648 with 1 Axes>"
      ]
     },
     "metadata": {
      "needs_background": "light"
     },
     "output_type": "display_data"
    }
   ],
   "source": [
    "sns.boxplot(data = mental_health, x='ADDEPEV', y='ADTHINK')\n",
    "#people who reported depression had more days that they had trouble concentrating"
   ]
  },
  {
   "cell_type": "code",
   "execution_count": 43,
   "metadata": {},
   "outputs": [
    {
     "data": {
      "text/plain": [
       "<matplotlib.axes._subplots.AxesSubplot at 0x1d06c95ea08>"
      ]
     },
     "execution_count": 43,
     "metadata": {},
     "output_type": "execute_result"
    },
    {
     "data": {
      "image/png": "[encoded data removed]",
      "text/plain": [
       "<Figure size 1080x648 with 1 Axes>"
      ]
     },
     "metadata": {
      "needs_background": "light"
     },
     "output_type": "display_data"
    }
   ],
   "source": [
    "sns.violinplot(data = mental_health, x='ADDEPEV', y='ADTHINK')\n",
    "#most people without depression didn't have trouble concentrating"
   ]
  },
  {
   "cell_type": "code",
   "execution_count": 44,
   "metadata": {},
   "outputs": [
    {
     "data": {
      "text/plain": [
       "<matplotlib.axes._subplots.AxesSubplot at 0x1d06cba5648>"
      ]
     },
     "execution_count": 44,
     "metadata": {},
     "output_type": "execute_result"
    },
    {
     "data": {
      "image/png": "[encoded data removed]",
      "text/plain": [
       "<Figure size 1080x648 with 1 Axes>"
      ]
     },
     "metadata": {
      "needs_background": "light"
     },
     "output_type": "display_data"
    }
   ],
   "source": [
    "sns.boxplot(data = mental_health, x='ADDEPEV', y='ADMOVE')\n",
    "#people who reported depression had more days that they moved too slowly or too quickly"
   ]
  },
  {
   "cell_type": "code",
   "execution_count": 45,
   "metadata": {
    "colab": {},
    "colab_type": "code",
    "id": "pHZSTLM_xy3c",
    "outputId": "0c081d32-3562-43aa-b3b4-b70d5529aa17"
   },
   "outputs": [
    {
     "data": {
      "text/plain": [
       "<matplotlib.axes._subplots.AxesSubplot at 0x1d06ce71a08>"
      ]
     },
     "execution_count": 45,
     "metadata": {},
     "output_type": "execute_result"
    },
    {
     "data": {
      "image/png": "[encoded data removed]",
      "text/plain": [
       "<Figure size 1080x648 with 1 Axes>"
      ]
     },
     "metadata": {
      "needs_background": "light"
     },
     "output_type": "display_data"
    }
   ],
   "source": [
    "sns.violinplot(data = mental_health, x='ADDEPEV', y='ADMOVE')\n",
    "#most people without depression didn't have trouble with moving too slowly or too quickly; depression had more variability"
   ]
  },
  {
   "cell_type": "code",
   "execution_count": 46,
   "metadata": {},
   "outputs": [
    {
     "data": {
      "text/plain": [
       "Index(['EMTSUPRT', 'LSATISFY', 'ADPLEASR', 'ADDOWN', 'ADSLEEP', 'ADENERGY',\n",
       "       'ADEAT1', 'ADFAIL', 'ADTHINK', 'ADMOVE', 'ADANXEV', 'ADDEPEV'],\n",
       "      dtype='object')"
      ]
     },
     "execution_count": 46,
     "metadata": {},
     "output_type": "execute_result"
    }
   ],
   "source": [
    "mental_health.columns"
   ]
  },
  {
   "cell_type": "code",
   "execution_count": 47,
   "metadata": {},
   "outputs": [],
   "source": [
    "#create categorical dataframe\n",
    "\n",
    "mhcat=mental_health[['EMTSUPRT', 'LSATISFY', 'ADANXEV', 'ADDEPEV']]\n",
    "mhcat.dtypes\n",
    "mhcat.EMTSUPRT.unique()\n",
    "mhcat.reset_index(inplace=True)"
   ]
  },
  {
   "cell_type": "code",
   "execution_count": 48,
   "metadata": {},
   "outputs": [
    {
     "data": {
      "text/plain": [
       "EMTSUPRT    float64\n",
       "LSATISFY    float64\n",
       "ADPLEASR    float64\n",
       "ADDOWN      float64\n",
       "ADSLEEP     float64\n",
       "ADENERGY    float64\n",
       "ADEAT1      float64\n",
       "ADFAIL      float64\n",
       "ADTHINK     float64\n",
       "ADMOVE      float64\n",
       "ADANXEV     float64\n",
       "ADDEPEV     float64\n",
       "dtype: object"
      ]
     },
     "execution_count": 48,
     "metadata": {},
     "output_type": "execute_result"
    }
   ],
   "source": [
    "mental_health.dtypes"
   ]
  },
  {
   "cell_type": "code",
   "execution_count": 49,
   "metadata": {},
   "outputs": [
    {
     "data": {
      "text/plain": [
       "(72432, 8)"
      ]
     },
     "execution_count": 49,
     "metadata": {},
     "output_type": "execute_result"
    }
   ],
   "source": [
    "#standardize numeric data\n",
    "from sklearn.preprocessing import StandardScaler\n",
    "scaler = StandardScaler() \n",
    "mh_num=mental_health[['ADPLEASR', 'ADDOWN', 'ADSLEEP', 'ADENERGY','ADEAT1', 'ADFAIL', 'ADTHINK', 'ADMOVE']]\n",
    "scaled_mh = scaler.fit_transform(mh_num)\n",
    "scaled_mh= pd.DataFrame(scaled_mh)\n",
    "scaled_mh.shape"
   ]
  },
  {
   "cell_type": "code",
   "execution_count": 50,
   "metadata": {},
   "outputs": [
    {
     "data": {
      "text/plain": [
       "(72432, 5)"
      ]
     },
     "execution_count": 50,
     "metadata": {},
     "output_type": "execute_result"
    }
   ],
   "source": [
    "mhcat.shape\n"
   ]
  },
  {
   "cell_type": "code",
   "execution_count": 51,
   "metadata": {},
   "outputs": [
    {
     "data": {
      "text/plain": [
       "array([2., 1., 5., 3., 4., 7., 9.])"
      ]
     },
     "execution_count": 51,
     "metadata": {},
     "output_type": "execute_result"
    }
   ],
   "source": [
    "mental_health=pd.concat([scaled_mh, mhcat], axis=1)\n",
    "mental_health.head(50)\n",
    "mental_health.EMTSUPRT.unique()"
   ]
  },
  {
   "cell_type": "code",
   "execution_count": 52,
   "metadata": {},
   "outputs": [
    {
     "data": {
      "text/html": [
       "<div>\n",
       "<style scoped>\n",
       "    .dataframe tbody tr th:only-of-type {\n",
       "        vertical-align: middle;\n",
       "    }\n",
       "\n",
       "    .dataframe tbody tr th {\n",
       "        vertical-align: top;\n",
       "    }\n",
       "\n",
       "    .dataframe thead th {\n",
       "        text-align: right;\n",
       "    }\n",
       "</style>\n",
       "<table border=\"1\" class=\"dataframe\">\n",
       "  <thead>\n",
       "    <tr style=\"text-align: right;\">\n",
       "      <th></th>\n",
       "      <th>0</th>\n",
       "      <th>1</th>\n",
       "      <th>2</th>\n",
       "      <th>3</th>\n",
       "      <th>4</th>\n",
       "      <th>5</th>\n",
       "      <th>6</th>\n",
       "      <th>7</th>\n",
       "      <th>index</th>\n",
       "      <th>ADDEPEV</th>\n",
       "      <th>...</th>\n",
       "      <th>LSATISFY_1.0</th>\n",
       "      <th>LSATISFY_2.0</th>\n",
       "      <th>LSATISFY_3.0</th>\n",
       "      <th>LSATISFY_4.0</th>\n",
       "      <th>LSATISFY_7.0</th>\n",
       "      <th>LSATISFY_9.0</th>\n",
       "      <th>ADANXEV_1.0</th>\n",
       "      <th>ADANXEV_2.0</th>\n",
       "      <th>ADANXEV_7.0</th>\n",
       "      <th>ADANXEV_9.0</th>\n",
       "    </tr>\n",
       "  </thead>\n",
       "  <tbody>\n",
       "    <tr>\n",
       "      <th>0</th>\n",
       "      <td>-0.474949</td>\n",
       "      <td>-0.415352</td>\n",
       "      <td>-0.417389</td>\n",
       "      <td>-0.562050</td>\n",
       "      <td>-0.023264</td>\n",
       "      <td>-0.321384</td>\n",
       "      <td>-0.339230</td>\n",
       "      <td>-0.260319</td>\n",
       "      <td>9632</td>\n",
       "      <td>0.0</td>\n",
       "      <td>...</td>\n",
       "      <td>0</td>\n",
       "      <td>1</td>\n",
       "      <td>0</td>\n",
       "      <td>0</td>\n",
       "      <td>0</td>\n",
       "      <td>0</td>\n",
       "      <td>0</td>\n",
       "      <td>1</td>\n",
       "      <td>0</td>\n",
       "      <td>0</td>\n",
       "    </tr>\n",
       "    <tr>\n",
       "      <th>1</th>\n",
       "      <td>-0.188291</td>\n",
       "      <td>-0.090648</td>\n",
       "      <td>-0.417389</td>\n",
       "      <td>-0.136015</td>\n",
       "      <td>-0.525596</td>\n",
       "      <td>-0.321384</td>\n",
       "      <td>-0.339230</td>\n",
       "      <td>-0.260319</td>\n",
       "      <td>9633</td>\n",
       "      <td>0.0</td>\n",
       "      <td>...</td>\n",
       "      <td>0</td>\n",
       "      <td>1</td>\n",
       "      <td>0</td>\n",
       "      <td>0</td>\n",
       "      <td>0</td>\n",
       "      <td>0</td>\n",
       "      <td>0</td>\n",
       "      <td>1</td>\n",
       "      <td>0</td>\n",
       "      <td>0</td>\n",
       "    </tr>\n",
       "    <tr>\n",
       "      <th>2</th>\n",
       "      <td>-0.474949</td>\n",
       "      <td>-0.415352</td>\n",
       "      <td>-0.417389</td>\n",
       "      <td>-0.775068</td>\n",
       "      <td>0.227902</td>\n",
       "      <td>-0.321384</td>\n",
       "      <td>-0.339230</td>\n",
       "      <td>-0.260319</td>\n",
       "      <td>9634</td>\n",
       "      <td>0.0</td>\n",
       "      <td>...</td>\n",
       "      <td>0</td>\n",
       "      <td>0</td>\n",
       "      <td>0</td>\n",
       "      <td>1</td>\n",
       "      <td>0</td>\n",
       "      <td>0</td>\n",
       "      <td>0</td>\n",
       "      <td>1</td>\n",
       "      <td>0</td>\n",
       "      <td>0</td>\n",
       "    </tr>\n",
       "    <tr>\n",
       "      <th>3</th>\n",
       "      <td>1.818312</td>\n",
       "      <td>-0.415352</td>\n",
       "      <td>-0.636725</td>\n",
       "      <td>0.503037</td>\n",
       "      <td>-0.525596</td>\n",
       "      <td>-0.321384</td>\n",
       "      <td>-0.339230</td>\n",
       "      <td>-0.260319</td>\n",
       "      <td>9635</td>\n",
       "      <td>1.0</td>\n",
       "      <td>...</td>\n",
       "      <td>0</td>\n",
       "      <td>1</td>\n",
       "      <td>0</td>\n",
       "      <td>0</td>\n",
       "      <td>0</td>\n",
       "      <td>0</td>\n",
       "      <td>0</td>\n",
       "      <td>1</td>\n",
       "      <td>0</td>\n",
       "      <td>0</td>\n",
       "    </tr>\n",
       "    <tr>\n",
       "      <th>4</th>\n",
       "      <td>-0.474949</td>\n",
       "      <td>-0.415352</td>\n",
       "      <td>-0.636725</td>\n",
       "      <td>-0.349033</td>\n",
       "      <td>-0.525596</td>\n",
       "      <td>-0.321384</td>\n",
       "      <td>-0.339230</td>\n",
       "      <td>-0.260319</td>\n",
       "      <td>9636</td>\n",
       "      <td>0.0</td>\n",
       "      <td>...</td>\n",
       "      <td>1</td>\n",
       "      <td>0</td>\n",
       "      <td>0</td>\n",
       "      <td>0</td>\n",
       "      <td>0</td>\n",
       "      <td>0</td>\n",
       "      <td>0</td>\n",
       "      <td>1</td>\n",
       "      <td>0</td>\n",
       "      <td>0</td>\n",
       "    </tr>\n",
       "    <tr>\n",
       "      <th>...</th>\n",
       "      <td>...</td>\n",
       "      <td>...</td>\n",
       "      <td>...</td>\n",
       "      <td>...</td>\n",
       "      <td>...</td>\n",
       "      <td>...</td>\n",
       "      <td>...</td>\n",
       "      <td>...</td>\n",
       "      <td>...</td>\n",
       "      <td>...</td>\n",
       "      <td>...</td>\n",
       "      <td>...</td>\n",
       "      <td>...</td>\n",
       "      <td>...</td>\n",
       "      <td>...</td>\n",
       "      <td>...</td>\n",
       "      <td>...</td>\n",
       "      <td>...</td>\n",
       "      <td>...</td>\n",
       "      <td>...</td>\n",
       "      <td>...</td>\n",
       "    </tr>\n",
       "    <tr>\n",
       "      <th>95</th>\n",
       "      <td>-0.474949</td>\n",
       "      <td>-0.415352</td>\n",
       "      <td>-0.417389</td>\n",
       "      <td>-0.349033</td>\n",
       "      <td>-0.525596</td>\n",
       "      <td>-0.321384</td>\n",
       "      <td>-0.339230</td>\n",
       "      <td>-0.260319</td>\n",
       "      <td>9743</td>\n",
       "      <td>0.0</td>\n",
       "      <td>...</td>\n",
       "      <td>0</td>\n",
       "      <td>1</td>\n",
       "      <td>0</td>\n",
       "      <td>0</td>\n",
       "      <td>0</td>\n",
       "      <td>0</td>\n",
       "      <td>0</td>\n",
       "      <td>1</td>\n",
       "      <td>0</td>\n",
       "      <td>0</td>\n",
       "    </tr>\n",
       "    <tr>\n",
       "      <th>96</th>\n",
       "      <td>-0.188291</td>\n",
       "      <td>-0.415352</td>\n",
       "      <td>2.433974</td>\n",
       "      <td>2.207177</td>\n",
       "      <td>-0.023264</td>\n",
       "      <td>0.035008</td>\n",
       "      <td>1.348742</td>\n",
       "      <td>0.576473</td>\n",
       "      <td>9744</td>\n",
       "      <td>0.0</td>\n",
       "      <td>...</td>\n",
       "      <td>0</td>\n",
       "      <td>1</td>\n",
       "      <td>0</td>\n",
       "      <td>0</td>\n",
       "      <td>0</td>\n",
       "      <td>0</td>\n",
       "      <td>1</td>\n",
       "      <td>0</td>\n",
       "      <td>0</td>\n",
       "      <td>0</td>\n",
       "    </tr>\n",
       "    <tr>\n",
       "      <th>97</th>\n",
       "      <td>0.385024</td>\n",
       "      <td>-0.415352</td>\n",
       "      <td>-0.417389</td>\n",
       "      <td>-0.136015</td>\n",
       "      <td>-0.274430</td>\n",
       "      <td>0.747792</td>\n",
       "      <td>-0.339230</td>\n",
       "      <td>-0.260319</td>\n",
       "      <td>9745</td>\n",
       "      <td>0.0</td>\n",
       "      <td>...</td>\n",
       "      <td>0</td>\n",
       "      <td>1</td>\n",
       "      <td>0</td>\n",
       "      <td>0</td>\n",
       "      <td>0</td>\n",
       "      <td>0</td>\n",
       "      <td>0</td>\n",
       "      <td>1</td>\n",
       "      <td>0</td>\n",
       "      <td>0</td>\n",
       "    </tr>\n",
       "    <tr>\n",
       "      <th>98</th>\n",
       "      <td>-0.474949</td>\n",
       "      <td>-0.415352</td>\n",
       "      <td>-0.636725</td>\n",
       "      <td>-0.775068</td>\n",
       "      <td>-0.525596</td>\n",
       "      <td>-0.321384</td>\n",
       "      <td>-0.339230</td>\n",
       "      <td>-0.260319</td>\n",
       "      <td>9746</td>\n",
       "      <td>0.0</td>\n",
       "      <td>...</td>\n",
       "      <td>0</td>\n",
       "      <td>1</td>\n",
       "      <td>0</td>\n",
       "      <td>0</td>\n",
       "      <td>0</td>\n",
       "      <td>0</td>\n",
       "      <td>0</td>\n",
       "      <td>1</td>\n",
       "      <td>0</td>\n",
       "      <td>0</td>\n",
       "    </tr>\n",
       "    <tr>\n",
       "      <th>99</th>\n",
       "      <td>3.538257</td>\n",
       "      <td>4.130503</td>\n",
       "      <td>-0.636725</td>\n",
       "      <td>2.207177</td>\n",
       "      <td>-0.525596</td>\n",
       "      <td>4.668105</td>\n",
       "      <td>-0.339230</td>\n",
       "      <td>-0.260319</td>\n",
       "      <td>9747</td>\n",
       "      <td>0.0</td>\n",
       "      <td>...</td>\n",
       "      <td>0</td>\n",
       "      <td>1</td>\n",
       "      <td>0</td>\n",
       "      <td>0</td>\n",
       "      <td>0</td>\n",
       "      <td>0</td>\n",
       "      <td>0</td>\n",
       "      <td>1</td>\n",
       "      <td>0</td>\n",
       "      <td>0</td>\n",
       "    </tr>\n",
       "  </tbody>\n",
       "</table>\n",
       "<p>100 rows × 27 columns</p>\n",
       "</div>"
      ],
      "text/plain": [
       "           0         1         2         3         4         5         6  \\\n",
       "0  -0.474949 -0.415352 -0.417389 -0.562050 -0.023264 -0.321384 -0.339230   \n",
       "1  -0.188291 -0.090648 -0.417389 -0.136015 -0.525596 -0.321384 -0.339230   \n",
       "2  -0.474949 -0.415352 -0.417389 -0.775068  0.227902 -0.321384 -0.339230   \n",
       "3   1.818312 -0.415352 -0.636725  0.503037 -0.525596 -0.321384 -0.339230   \n",
       "4  -0.474949 -0.415352 -0.636725 -0.349033 -0.525596 -0.321384 -0.339230   \n",
       "..       ...       ...       ...       ...       ...       ...       ...   \n",
       "95 -0.474949 -0.415352 -0.417389 -0.349033 -0.525596 -0.321384 -0.339230   \n",
       "96 -0.188291 -0.415352  2.433974  2.207177 -0.023264  0.035008  1.348742   \n",
       "97  0.385024 -0.415352 -0.417389 -0.136015 -0.274430  0.747792 -0.339230   \n",
       "98 -0.474949 -0.415352 -0.636725 -0.775068 -0.525596 -0.321384 -0.339230   \n",
       "99  3.538257  4.130503 -0.636725  2.207177 -0.525596  4.668105 -0.339230   \n",
       "\n",
       "           7  index  ADDEPEV  ...  LSATISFY_1.0  LSATISFY_2.0  LSATISFY_3.0  \\\n",
       "0  -0.260319   9632      0.0  ...             0             1             0   \n",
       "1  -0.260319   9633      0.0  ...             0             1             0   \n",
       "2  -0.260319   9634      0.0  ...             0             0             0   \n",
       "3  -0.260319   9635      1.0  ...             0             1             0   \n",
       "4  -0.260319   9636      0.0  ...             1             0             0   \n",
       "..       ...    ...      ...  ...           ...           ...           ...   \n",
       "95 -0.260319   9743      0.0  ...             0             1             0   \n",
       "96  0.576473   9744      0.0  ...             0             1             0   \n",
       "97 -0.260319   9745      0.0  ...             0             1             0   \n",
       "98 -0.260319   9746      0.0  ...             0             1             0   \n",
       "99 -0.260319   9747      0.0  ...             0             1             0   \n",
       "\n",
       "    LSATISFY_4.0  LSATISFY_7.0  LSATISFY_9.0  ADANXEV_1.0  ADANXEV_2.0  \\\n",
       "0              0             0             0            0            1   \n",
       "1              0             0             0            0            1   \n",
       "2              1             0             0            0            1   \n",
       "3              0             0             0            0            1   \n",
       "4              0             0             0            0            1   \n",
       "..           ...           ...           ...          ...          ...   \n",
       "95             0             0             0            0            1   \n",
       "96             0             0             0            1            0   \n",
       "97             0             0             0            0            1   \n",
       "98             0             0             0            0            1   \n",
       "99             0             0             0            0            1   \n",
       "\n",
       "    ADANXEV_7.0  ADANXEV_9.0  \n",
       "0             0            0  \n",
       "1             0            0  \n",
       "2             0            0  \n",
       "3             0            0  \n",
       "4             0            0  \n",
       "..          ...          ...  \n",
       "95            0            0  \n",
       "96            0            0  \n",
       "97            0            0  \n",
       "98            0            0  \n",
       "99            0            0  \n",
       "\n",
       "[100 rows x 27 columns]"
      ]
     },
     "execution_count": 52,
     "metadata": {},
     "output_type": "execute_result"
    }
   ],
   "source": [
    "mental_health2=pd.get_dummies(mental_health, columns=['EMTSUPRT', 'LSATISFY', 'ADANXEV'])\n",
    "mental_health2.head(100)"
   ]
  },
  {
   "cell_type": "code",
   "execution_count": 53,
   "metadata": {},
   "outputs": [
    {
     "data": {
      "text/plain": [
       "0.0    59630\n",
       "1.0    12802\n",
       "Name: ADDEPEV, dtype: int64"
      ]
     },
     "execution_count": 53,
     "metadata": {},
     "output_type": "execute_result"
    }
   ],
   "source": [
    "mental_health.ADDEPEV.value_counts()\n",
    "#1 yes, 2 no\n",
    "#Has a doctor or other healthcare provider EVER told you that you have a depressive disorder (including depression,\n",
    "#major depression, dysthymia, or minor depression)?"
   ]
  },
  {
   "cell_type": "code",
   "execution_count": 54,
   "metadata": {},
   "outputs": [],
   "source": [
    "from sklearn.model_selection import train_test_split"
   ]
  },
  {
   "cell_type": "code",
   "execution_count": 55,
   "metadata": {},
   "outputs": [],
   "source": [
    "#split into X and y variables\n",
    "X=mental_health.drop(columns='ADDEPEV')"
   ]
  },
  {
   "cell_type": "code",
   "execution_count": 56,
   "metadata": {},
   "outputs": [
    {
     "data": {
      "text/plain": [
       "0        0.0\n",
       "1        0.0\n",
       "2        0.0\n",
       "3        1.0\n",
       "4        0.0\n",
       "        ... \n",
       "72427    0.0\n",
       "72428    0.0\n",
       "72429    1.0\n",
       "72430    1.0\n",
       "72431    0.0\n",
       "Name: ADDEPEV, Length: 72432, dtype: float64"
      ]
     },
     "execution_count": 56,
     "metadata": {},
     "output_type": "execute_result"
    }
   ],
   "source": [
    "y=mental_health['ADDEPEV']\n",
    "y\n"
   ]
  },
  {
   "cell_type": "code",
   "execution_count": 57,
   "metadata": {},
   "outputs": [],
   "source": [
    "#split training and test data\n",
    "X_train, X_test, y_train, y_test=train_test_split(X,y, test_size=.2, random_state=111)"
   ]
  },
  {
   "cell_type": "code",
   "execution_count": 58,
   "metadata": {},
   "outputs": [
    {
     "data": {
      "text/plain": [
       "Counter({0.0: 47666, 1.0: 10279})"
      ]
     },
     "execution_count": 58,
     "metadata": {},
     "output_type": "execute_result"
    }
   ],
   "source": [
    "from collections import Counter\n",
    "Counter(y_train)"
   ]
  },
  {
   "cell_type": "markdown",
   "metadata": {},
   "source": [
    "### Modeling\n",
    "This is a supervised learning classification problem. Therefore I have tested the following classification models:\n",
    "\n",
    "- Logistic Regression\n",
    "- K-Nearest Neighbor (KNN)\n",
    "- Decision Tree\n",
    "- Random Forest\n",
    "- Gradiant Boost"
   ]
  },
  {
   "cell_type": "markdown",
   "metadata": {},
   "source": [
    "### Logistic Regression"
   ]
  },
  {
   "cell_type": "code",
   "execution_count": 59,
   "metadata": {},
   "outputs": [
    {
     "data": {
      "text/plain": [
       "LogisticRegression(C=1, class_weight='balanced')"
      ]
     },
     "execution_count": 59,
     "metadata": {},
     "output_type": "execute_result"
    }
   ],
   "source": [
    "from sklearn.linear_model import LogisticRegression\n",
    "model1 = LogisticRegression(random_state=0, solver='lbfgs', max_iter=500).fit(X_train, y_train)\n",
    "preds = model1.predict(X_test)\n",
    "LogisticRegression(penalty='l2', class_weight='balanced', C=1)"
   ]
  },
  {
   "cell_type": "code",
   "execution_count": null,
   "metadata": {},
   "outputs": [],
   "source": []
  },
  {
   "cell_type": "code",
   "execution_count": 60,
   "metadata": {},
   "outputs": [
    {
     "name": "stdout",
     "output_type": "stream",
     "text": [
      "{'C': 1.0, 'class_weight': None, 'dual': False, 'fit_intercept': True, 'intercept_scaling': 1, 'l1_ratio': None, 'max_iter': 500, 'multi_class': 'auto', 'n_jobs': None, 'penalty': 'l2', 'random_state': 0, 'solver': 'lbfgs', 'tol': 0.0001, 'verbose': 0, 'warm_start': False}\n"
     ]
    },
    {
     "data": {
      "text/plain": [
       "array([0., 1.])"
      ]
     },
     "execution_count": 60,
     "metadata": {},
     "output_type": "execute_result"
    }
   ],
   "source": [
    "params = model1.get_params()\n",
    "print(params)\n",
    "model1.classes_"
   ]
  },
  {
   "cell_type": "code",
   "execution_count": 61,
   "metadata": {},
   "outputs": [
    {
     "data": {
      "text/plain": [
       "0.8258438600124249"
      ]
     },
     "execution_count": 61,
     "metadata": {},
     "output_type": "execute_result"
    }
   ],
   "source": [
    "model1.score(X_test, y_test)"
   ]
  },
  {
   "cell_type": "code",
   "execution_count": 62,
   "metadata": {},
   "outputs": [
    {
     "data": {
      "text/plain": [
       "array([[11964,     0],\n",
       "       [ 2523,     0]], dtype=int64)"
      ]
     },
     "execution_count": 62,
     "metadata": {},
     "output_type": "execute_result"
    }
   ],
   "source": [
    "from sklearn.metrics import confusion_matrix\n",
    "confusion_matrix(y_test, model1.predict(X_test))"
   ]
  },
  {
   "cell_type": "code",
   "execution_count": 76,
   "metadata": {},
   "outputs": [],
   "source": [
    "model2=LogisticRegression(random_state=0, penalty= 'none', solver='lbfgs', max_iter=500).fit(X_train, y_train)\n",
    "preds2=(model2.predict_proba(X_test)[:,1] >=.15).astype(bool)\n",
    "\n"
   ]
  },
  {
   "cell_type": "code",
   "execution_count": 77,
   "metadata": {},
   "outputs": [
    {
     "name": "stdout",
     "output_type": "stream",
     "text": [
      "{'C': 1.0, 'class_weight': None, 'dual': False, 'fit_intercept': True, 'intercept_scaling': 1, 'l1_ratio': None, 'max_iter': 500, 'multi_class': 'auto', 'n_jobs': None, 'penalty': 'none', 'random_state': 0, 'solver': 'lbfgs', 'tol': 0.0001, 'verbose': 0, 'warm_start': False}\n"
     ]
    }
   ],
   "source": [
    "params2=model2.get_params()\n",
    "print(params2)"
   ]
  },
  {
   "cell_type": "code",
   "execution_count": 78,
   "metadata": {},
   "outputs": [
    {
     "data": {
      "text/plain": [
       "0.8258438600124249"
      ]
     },
     "execution_count": 78,
     "metadata": {},
     "output_type": "execute_result"
    }
   ],
   "source": [
    "model2.score(X_test, y_test)"
   ]
  },
  {
   "cell_type": "code",
   "execution_count": 79,
   "metadata": {},
   "outputs": [
    {
     "data": {
      "text/plain": [
       "array([[4278, 7686],\n",
       "       [1015, 1508]], dtype=int64)"
      ]
     },
     "execution_count": 79,
     "metadata": {},
     "output_type": "execute_result"
    }
   ],
   "source": [
    "from sklearn.metrics import confusion_matrix\n",
    "confusion_matrix(y_test, preds2)"
   ]
  },
  {
   "cell_type": "markdown",
   "metadata": {},
   "source": [
    "The confusion matrix shows that although the score for the model is good, the model is not a good fit because it predicts the same outcome for all values of X. It classifies everything as 2 (No), which is not good. Therefore, we will try another model. Perhaps KNN is the better model for this problem."
   ]
  },
  {
   "cell_type": "markdown",
   "metadata": {},
   "source": [
    "### KNN"
   ]
  },
  {
   "cell_type": "code",
   "execution_count": 155,
   "metadata": {},
   "outputs": [
    {
     "data": {
      "text/plain": [
       "GridSearchCV(cv=5, estimator=KNeighborsClassifier(),\n",
       "             param_grid={'n_neighbors': array([ 1,  2,  3,  4,  5,  6,  7,  8,  9, 10, 11, 12, 13, 14, 15, 16, 17,\n",
       "       18, 19, 20, 21, 22, 23, 24, 25, 26, 27, 28, 29, 30, 31, 32, 33, 34,\n",
       "       35, 36, 37, 38, 39, 40, 41, 42, 43, 44, 45, 46, 47, 48, 49])})"
      ]
     },
     "execution_count": 155,
     "metadata": {},
     "output_type": "execute_result"
    }
   ],
   "source": [
    "from sklearn.model_selection import GridSearchCV\n",
    "from sklearn.neighbors import KNeighborsClassifier\n",
    "param_grid = {'n_neighbors':np.arange(1,50)}\n",
    "knn = KNeighborsClassifier()\n",
    "knn_cv= GridSearchCV(knn,param_grid,cv=5)\n",
    "knn_cv.fit(X_train, y_train)"
   ]
  },
  {
   "cell_type": "code",
   "execution_count": 157,
   "metadata": {},
   "outputs": [
    {
     "name": "stdout",
     "output_type": "stream",
     "text": [
      "Best Score:0.8226076451807749\n",
      "Best Parameters: {'n_neighbors': 30}\n"
     ]
    }
   ],
   "source": [
    "print(\"Best Score:\" + str(knn_cv.best_score_))\n",
    "print(\"Best Parameters: \" + str(knn_cv.best_params_))"
   ]
  },
  {
   "cell_type": "code",
   "execution_count": 158,
   "metadata": {},
   "outputs": [
    {
     "name": "stdout",
     "output_type": "stream",
     "text": [
      "0.8258438600124249\n",
      "[[11964     0]\n",
      " [ 2523     0]]\n"
     ]
    }
   ],
   "source": [
    "import sklearn.metrics as metrics\n",
    "knn = KNeighborsClassifier(n_neighbors=22)\n",
    "knn.fit(X_train, y_train)\n",
    "y_pred = knn.predict(X_test)\n",
    "print(metrics.accuracy_score(y_test, y_pred))\n",
    "print(confusion_matrix(y_test, y_pred))"
   ]
  },
  {
   "cell_type": "markdown",
   "metadata": {},
   "source": [
    "This model also does not do a good job because it makes the same predictions as the logistic regression. "
   ]
  },
  {
   "cell_type": "markdown",
   "metadata": {},
   "source": [
    "## SVM"
   ]
  },
  {
   "cell_type": "code",
   "execution_count": null,
   "metadata": {},
   "outputs": [],
   "source": [
    "from sklearn import svm\n",
    "\n",
    "#Create a svm Classifier\n",
    "clf = svm.SVC(kernel='linear') # Linear Kernel\n",
    "\n",
    "#Train the model using the training sets\n",
    "clf.fit(X_train, y_train)\n",
    "\n",
    "#Predict the response for test dataset\n",
    "y_pred = clf.predict(X_test)"
   ]
  },
  {
   "cell_type": "code",
   "execution_count": null,
   "metadata": {},
   "outputs": [],
   "source": [
    "from sklearn import metrics\n",
    "print(\"Accuracy:\",metrics.accuracy_score(y_test, y_pred))\n",
    "print(\"Accuracy:\",metrics.precision_score(y_test, y_pred))"
   ]
  },
  {
   "cell_type": "code",
   "execution_count": null,
   "metadata": {},
   "outputs": [],
   "source": [
    "print(confusion_matrix(y_test, y_pred))"
   ]
  },
  {
   "cell_type": "markdown",
   "metadata": {},
   "source": [
    "## Decision Tree\n",
    "Next, I will try a decision tree and I will tune the hyperparameters to achieve optimal results. First, I will try a decision tree with all the hyperparamters set at the default."
   ]
  },
  {
   "cell_type": "code",
   "execution_count": 161,
   "metadata": {},
   "outputs": [],
   "source": [
    "from sklearn import tree"
   ]
  },
  {
   "cell_type": "code",
   "execution_count": 162,
   "metadata": {},
   "outputs": [],
   "source": [
    "clf = tree.DecisionTreeClassifier(criterion='gini')\n",
    "clf = clf.fit(X_train, y_train)\n",
    "y_pred=clf.predict(X_test)\n"
   ]
  },
  {
   "cell_type": "code",
   "execution_count": 163,
   "metadata": {},
   "outputs": [
    {
     "name": "stdout",
     "output_type": "stream",
     "text": [
      "Accuracy: 0.7949886104783599\n"
     ]
    }
   ],
   "source": [
    "from sklearn import metrics\n",
    "print(\"Accuracy:\",metrics.accuracy_score(y_test, y_pred))"
   ]
  },
  {
   "cell_type": "code",
   "execution_count": 164,
   "metadata": {},
   "outputs": [
    {
     "name": "stdout",
     "output_type": "stream",
     "text": [
      "Precision: 0.41613508442776737\n"
     ]
    }
   ],
   "source": [
    "print(\"Precision:\",metrics.precision_score(y_test, y_pred))"
   ]
  },
  {
   "cell_type": "code",
   "execution_count": 165,
   "metadata": {},
   "outputs": [
    {
     "name": "stdout",
     "output_type": "stream",
     "text": [
      "[[10408  1556]\n",
      " [ 1414  1109]]\n"
     ]
    }
   ],
   "source": [
    "print(confusion_matrix(y_test, y_pred))"
   ]
  },
  {
   "cell_type": "markdown",
   "metadata": {},
   "source": [
    "This initial model does not do a very good job of classifying people with depression because it has a high false positive rate. Next, I will try to tune the criterion and max depth."
   ]
  },
  {
   "cell_type": "code",
   "execution_count": 148,
   "metadata": {},
   "outputs": [],
   "source": [
    "clf2 = tree.DecisionTreeClassifier(criterion='entropy', max_depth=5)\n",
    "clf2 = clf2.fit(X_train, y_train)\n",
    "y_pred2=clf2.predict(X_test)\n"
   ]
  },
  {
   "cell_type": "code",
   "execution_count": 152,
   "metadata": {},
   "outputs": [
    {
     "name": "stdout",
     "output_type": "stream",
     "text": [
      "Accuracy: 0.8676054393594257\n"
     ]
    }
   ],
   "source": [
    "from sklearn import metrics\n",
    "print(\"Accuracy:\",metrics.accuracy_score(y_test, y_pred2))"
   ]
  },
  {
   "cell_type": "code",
   "execution_count": 153,
   "metadata": {},
   "outputs": [
    {
     "name": "stdout",
     "output_type": "stream",
     "text": [
      "Precision: 0.6841144248326233\n"
     ]
    }
   ],
   "source": [
    "print(\"Precision:\",metrics.precision_score(y_test, y_pred2))"
   ]
  },
  {
   "cell_type": "code",
   "execution_count": 154,
   "metadata": {},
   "outputs": [
    {
     "name": "stdout",
     "output_type": "stream",
     "text": [
      "[[11445   519]\n",
      " [ 1399  1124]]\n"
     ]
    }
   ],
   "source": [
    "print(confusion_matrix(y_test, y_pred2))"
   ]
  },
  {
   "cell_type": "markdown",
   "metadata": {},
   "source": [
    "This model does a good job of predicting depression. I specified the entropy model and a max depth of 5. It correctly identifies 1124 people with depression. There are 519 false positives out of 11964 true negatives. This is an acceptable error rate because it correctly detects almost half of the people with depression who may otherwise have not been identified prior to this screening."
   ]
  }
 ],
 "metadata": {
  "colab": {
   "name": "BRFSS_capstone.ipynb",
   "provenance": []
  },
  "kernelspec": {
   "display_name": "Python 3",
   "language": "python",
   "name": "python3"
  },
  "language_info": {
   "codemirror_mode": {
    "name": "ipython",
    "version": 3
   },
   "file_extension": ".py",
   "mimetype": "text/x-python",
   "name": "python",
   "nbconvert_exporter": "python",
   "pygments_lexer": "ipython3",
   "version": "3.7.6"
  }
 },
 "nbformat": 4,
 "nbformat_minor": 1
}
