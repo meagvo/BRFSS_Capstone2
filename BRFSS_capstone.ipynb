{
  "nbformat": 4,
  "nbformat_minor": 0,
  "metadata": {
    "colab": {
      "name": "BRFSS_capstone.ipynb",
      "provenance": [],
      "collapsed_sections": [
        "02xgd5yYHhVX"
      ]
    },
    "kernelspec": {
      "display_name": "Python 3",
      "language": "python",
      "name": "python3"
    },
    "language_info": {
      "codemirror_mode": {
        "name": "ipython",
        "version": 3
      },
      "file_extension": ".py",
      "mimetype": "text/x-python",
      "name": "python",
      "nbconvert_exporter": "python",
      "pygments_lexer": "ipython3",
      "version": "3.7.6"
    }
  },
  "cells": [
    {
      "cell_type": "markdown",
      "metadata": {
        "id": "fJdI-MflHhRp",
        "colab_type": "text"
      },
      "source": [
        "# Predicting Depression in at-risk Individuals"
      ]
    },
    {
      "cell_type": "markdown",
      "metadata": {
        "id": "P7ATCs4RHhRr",
        "colab_type": "text"
      },
      "source": [
        "### Problem statement formation: \n",
        "How can the NIMH decrease the median time delay for mental health treatment through the development of an app that screens individuals for mental illnesses?\n",
        "\n",
        "Context:  According to the NIMH, one in five Americans live with a mental illness. This can include both mental, behavioral, or emotional disorders. In addition, according to the NIMH data from 2017, among the 46.6 million adults with any mental illness, 19.8 million (42.6%) received mental health services in the past year. Furthermore, in 2017, the NIMH identified that 4.5% of all U.S. adults experienced a serious mental illness (SMI), meaning that the SMI substantially interfered with or limited one or more major life activities (Substance Abuse and Mental Health Services Administration, 2018). As the effects of mental illness can be severe, it is prudent to diagnose and treat individuals with mental illness in a timely manner. There are significant delays in diagnosing and treating a mental illness after initial onset (McLaughline, 2004). \n",
        "\n",
        "Criteria for Success: The creation of an app that will screen individuals for depressive disorders and refer them to a psychiatrist immediately. Success will be measured by assessing the delay in treatment in upcoming years. It is expected that the median delay time will decrease from 11 years until the first contact with a psychiatrist, to less than one year.\n",
        "\n",
        "Scope of solution space: This app will be used for adults (age 18 and up) in the United States who believe that they are struggling with their mental health. In the future, this can expand to other countries when data is collected from the WHO.\n",
        "\n",
        "Constraints: There is a lot of missing data in the BRFSS. Potentially, this could be because people refused to answer due to sensitivity to the topic. Because of this, there could be a confounding variable and missing data will have to be dealt with carefully. In addition, the budget needs to be kept in mind because funding will be allocated from the NIMH for this project according to the likelihood of success.\n",
        "\n",
        "Stakeholders: Those invested in this project will be the NIMH, the SAMHSA, psychiatric treatment providers and insurance companies.\n",
        "\n",
        "Data Sources: Data is acquired from the 2001-2010 BRFSS, which includes over 200 items and over 200,000 responses. However, after reviewing the data included related to depression items, the sample size decreases to about 80,000.\n",
        "\n",
        "Method: I will solve this problem by developing a classification model to predict the presence of a mental illness in individuals using the app. The app will narrow the predictors down to <=10 questions for ease of use.\n",
        "\n",
        "Deliverables: The deliverables include an app that functions appropriately for adults in the United States, as well as a slide deck that explains how the app was developed and verified. In addition, all the code will be available in a GitHub repo for each step of the project.\n",
        "\n"
      ]
    },
    {
      "cell_type": "code",
      "metadata": {
        "id": "w0VE8p2iHhRu",
        "colab_type": "code",
        "colab": {}
      },
      "source": [
        "import matplotlib.pyplot as plt\n",
        "plt.rcParams[\"figure.figsize\"] = (15,9)"
      ],
      "execution_count": 1,
      "outputs": []
    },
    {
      "cell_type": "code",
      "metadata": {
        "colab_type": "code",
        "id": "wA98fh8rbv9c",
        "colab": {}
      },
      "source": [
        "\n",
        "import pandas as pd\n",
        "#import BRFSS 2010 data and select columns of interest\n",
        "df2=pd.read_csv('https://springboardash.s3.amazonaws.com/10.csv')\n",
        "df2.shape\n",
        "df2=df2[['EMTSUPRT', 'LSATISFY','ADPLEASR','ADDOWN', 'ADSLEEP', 'ADENERGY', 'ADEAT1', 'ADFAIL', 'ADTHINK','ADMOVE','ADANXEV', 'ADDEPEV']]"
      ],
      "execution_count": 2,
      "outputs": []
    },
    {
      "cell_type": "code",
      "metadata": {
        "colab_type": "code",
        "id": "62W388jzbv9h",
        "colab": {
          "base_uri": "https://localhost:8080/",
          "height": 421
        },
        "outputId": "9bc459af-48ac-4a29-f58d-1b75ad20dd92"
      },
      "source": [
        "#descriptive statistics\n",
        "df2.describe().T\n"
      ],
      "execution_count": 3,
      "outputs": [
        {
          "output_type": "execute_result",
          "data": {
            "text/html": [
              "<div>\n",
              "<style scoped>\n",
              "    .dataframe tbody tr th:only-of-type {\n",
              "        vertical-align: middle;\n",
              "    }\n",
              "\n",
              "    .dataframe tbody tr th {\n",
              "        vertical-align: top;\n",
              "    }\n",
              "\n",
              "    .dataframe thead th {\n",
              "        text-align: right;\n",
              "    }\n",
              "</style>\n",
              "<table border=\"1\" class=\"dataframe\">\n",
              "  <thead>\n",
              "    <tr style=\"text-align: right;\">\n",
              "      <th></th>\n",
              "      <th>count</th>\n",
              "      <th>mean</th>\n",
              "      <th>std</th>\n",
              "      <th>min</th>\n",
              "      <th>25%</th>\n",
              "      <th>50%</th>\n",
              "      <th>75%</th>\n",
              "      <th>max</th>\n",
              "    </tr>\n",
              "  </thead>\n",
              "  <tbody>\n",
              "    <tr>\n",
              "      <th>EMTSUPRT</th>\n",
              "      <td>436221.0</td>\n",
              "      <td>1.974605</td>\n",
              "      <td>1.444904</td>\n",
              "      <td>1.0</td>\n",
              "      <td>1.0</td>\n",
              "      <td>1.0</td>\n",
              "      <td>2.0</td>\n",
              "      <td>9.0</td>\n",
              "    </tr>\n",
              "    <tr>\n",
              "      <th>LSATISFY</th>\n",
              "      <td>435968.0</td>\n",
              "      <td>1.688021</td>\n",
              "      <td>0.973586</td>\n",
              "      <td>1.0</td>\n",
              "      <td>1.0</td>\n",
              "      <td>2.0</td>\n",
              "      <td>2.0</td>\n",
              "      <td>9.0</td>\n",
              "    </tr>\n",
              "    <tr>\n",
              "      <th>ADPLEASR</th>\n",
              "      <td>79466.0</td>\n",
              "      <td>61.909974</td>\n",
              "      <td>38.298421</td>\n",
              "      <td>1.0</td>\n",
              "      <td>10.0</td>\n",
              "      <td>88.0</td>\n",
              "      <td>88.0</td>\n",
              "      <td>99.0</td>\n",
              "    </tr>\n",
              "    <tr>\n",
              "      <th>ADDOWN</th>\n",
              "      <td>79420.0</td>\n",
              "      <td>65.177739</td>\n",
              "      <td>37.122756</td>\n",
              "      <td>1.0</td>\n",
              "      <td>14.0</td>\n",
              "      <td>88.0</td>\n",
              "      <td>88.0</td>\n",
              "      <td>99.0</td>\n",
              "    </tr>\n",
              "    <tr>\n",
              "      <th>ADSLEEP</th>\n",
              "      <td>79391.0</td>\n",
              "      <td>50.676638</td>\n",
              "      <td>40.693882</td>\n",
              "      <td>1.0</td>\n",
              "      <td>5.0</td>\n",
              "      <td>88.0</td>\n",
              "      <td>88.0</td>\n",
              "      <td>99.0</td>\n",
              "    </tr>\n",
              "    <tr>\n",
              "      <th>ADENERGY</th>\n",
              "      <td>79367.0</td>\n",
              "      <td>36.939232</td>\n",
              "      <td>39.828500</td>\n",
              "      <td>1.0</td>\n",
              "      <td>3.0</td>\n",
              "      <td>14.0</td>\n",
              "      <td>88.0</td>\n",
              "      <td>99.0</td>\n",
              "    </tr>\n",
              "    <tr>\n",
              "      <th>ADEAT1</th>\n",
              "      <td>79335.0</td>\n",
              "      <td>59.207676</td>\n",
              "      <td>39.124483</td>\n",
              "      <td>1.0</td>\n",
              "      <td>8.0</td>\n",
              "      <td>88.0</td>\n",
              "      <td>88.0</td>\n",
              "      <td>99.0</td>\n",
              "    </tr>\n",
              "    <tr>\n",
              "      <th>ADFAIL</th>\n",
              "      <td>79298.0</td>\n",
              "      <td>74.269868</td>\n",
              "      <td>30.735371</td>\n",
              "      <td>1.0</td>\n",
              "      <td>88.0</td>\n",
              "      <td>88.0</td>\n",
              "      <td>88.0</td>\n",
              "      <td>99.0</td>\n",
              "    </tr>\n",
              "    <tr>\n",
              "      <th>ADTHINK</th>\n",
              "      <td>79266.0</td>\n",
              "      <td>73.963553</td>\n",
              "      <td>30.872160</td>\n",
              "      <td>1.0</td>\n",
              "      <td>88.0</td>\n",
              "      <td>88.0</td>\n",
              "      <td>88.0</td>\n",
              "      <td>99.0</td>\n",
              "    </tr>\n",
              "    <tr>\n",
              "      <th>ADMOVE</th>\n",
              "      <td>79219.0</td>\n",
              "      <td>79.497684</td>\n",
              "      <td>24.815877</td>\n",
              "      <td>1.0</td>\n",
              "      <td>88.0</td>\n",
              "      <td>88.0</td>\n",
              "      <td>88.0</td>\n",
              "      <td>99.0</td>\n",
              "    </tr>\n",
              "    <tr>\n",
              "      <th>ADANXEV</th>\n",
              "      <td>79160.0</td>\n",
              "      <td>1.892724</td>\n",
              "      <td>0.513281</td>\n",
              "      <td>1.0</td>\n",
              "      <td>2.0</td>\n",
              "      <td>2.0</td>\n",
              "      <td>2.0</td>\n",
              "      <td>9.0</td>\n",
              "    </tr>\n",
              "    <tr>\n",
              "      <th>ADDEPEV</th>\n",
              "      <td>79104.0</td>\n",
              "      <td>1.843459</td>\n",
              "      <td>0.528095</td>\n",
              "      <td>1.0</td>\n",
              "      <td>2.0</td>\n",
              "      <td>2.0</td>\n",
              "      <td>2.0</td>\n",
              "      <td>9.0</td>\n",
              "    </tr>\n",
              "  </tbody>\n",
              "</table>\n",
              "</div>"
            ],
            "text/plain": [
              "             count       mean        std  min   25%   50%   75%   max\n",
              "EMTSUPRT  436221.0   1.974605   1.444904  1.0   1.0   1.0   2.0   9.0\n",
              "LSATISFY  435968.0   1.688021   0.973586  1.0   1.0   2.0   2.0   9.0\n",
              "ADPLEASR   79466.0  61.909974  38.298421  1.0  10.0  88.0  88.0  99.0\n",
              "ADDOWN     79420.0  65.177739  37.122756  1.0  14.0  88.0  88.0  99.0\n",
              "ADSLEEP    79391.0  50.676638  40.693882  1.0   5.0  88.0  88.0  99.0\n",
              "ADENERGY   79367.0  36.939232  39.828500  1.0   3.0  14.0  88.0  99.0\n",
              "ADEAT1     79335.0  59.207676  39.124483  1.0   8.0  88.0  88.0  99.0\n",
              "ADFAIL     79298.0  74.269868  30.735371  1.0  88.0  88.0  88.0  99.0\n",
              "ADTHINK    79266.0  73.963553  30.872160  1.0  88.0  88.0  88.0  99.0\n",
              "ADMOVE     79219.0  79.497684  24.815877  1.0  88.0  88.0  88.0  99.0\n",
              "ADANXEV    79160.0   1.892724   0.513281  1.0   2.0   2.0   2.0   9.0\n",
              "ADDEPEV    79104.0   1.843459   0.528095  1.0   2.0   2.0   2.0   9.0"
            ]
          },
          "metadata": {
            "tags": []
          },
          "execution_count": 3
        }
      ]
    },
    {
      "cell_type": "code",
      "metadata": {
        "colab_type": "code",
        "id": "YQb5pglwbv9q",
        "colab": {
          "base_uri": "https://localhost:8080/",
          "height": 34
        },
        "outputId": "b34597c6-2c2e-455e-b3c6-b099cdb06855"
      },
      "source": [
        "#shape of dataframe\n",
        "df2.shape"
      ],
      "execution_count": 4,
      "outputs": [
        {
          "output_type": "execute_result",
          "data": {
            "text/plain": [
              "(451075, 12)"
            ]
          },
          "metadata": {
            "tags": []
          },
          "execution_count": 4
        }
      ]
    },
    {
      "cell_type": "code",
      "metadata": {
        "colab_type": "code",
        "id": "5sYwO-zRbv9t",
        "colab": {}
      },
      "source": [
        ""
      ],
      "execution_count": 4,
      "outputs": []
    },
    {
      "cell_type": "code",
      "metadata": {
        "colab_type": "code",
        "id": "gjJZsTizbv9x",
        "colab": {
          "base_uri": "https://localhost:8080/",
          "height": 68
        },
        "outputId": "6ea4afc3-9f76-47f1-88fd-c56832bc3cdb"
      },
      "source": [
        "#column names\n",
        "df2.columns"
      ],
      "execution_count": 5,
      "outputs": [
        {
          "output_type": "execute_result",
          "data": {
            "text/plain": [
              "Index(['EMTSUPRT', 'LSATISFY', 'ADPLEASR', 'ADDOWN', 'ADSLEEP', 'ADENERGY',\n",
              "       'ADEAT1', 'ADFAIL', 'ADTHINK', 'ADMOVE', 'ADANXEV', 'ADDEPEV'],\n",
              "      dtype='object')"
            ]
          },
          "metadata": {
            "tags": []
          },
          "execution_count": 5
        }
      ]
    },
    {
      "cell_type": "code",
      "metadata": {
        "id": "nXxGIYIZHhSW",
        "colab_type": "code",
        "colab": {}
      },
      "source": [
        "#get unique values for each variable"
      ],
      "execution_count": 6,
      "outputs": []
    },
    {
      "cell_type": "code",
      "metadata": {
        "colab_type": "code",
        "id": "gbSh6PfRbv96",
        "colab": {
          "base_uri": "https://localhost:8080/",
          "height": 34
        },
        "outputId": "08fce633-b836-4b44-b017-9955d5f6bc44"
      },
      "source": [
        "\n",
        "df2.EMTSUPRT.unique()"
      ],
      "execution_count": 7,
      "outputs": [
        {
          "output_type": "execute_result",
          "data": {
            "text/plain": [
              "array([ 5., nan,  1.,  2.,  3.,  7.,  4.,  9.])"
            ]
          },
          "metadata": {
            "tags": []
          },
          "execution_count": 7
        }
      ]
    },
    {
      "cell_type": "code",
      "metadata": {
        "id": "3vU0bu54HhSj",
        "colab_type": "code",
        "colab": {
          "base_uri": "https://localhost:8080/",
          "height": 34
        },
        "outputId": "a00b3c29-9ee2-4654-aae3-0c8e409f8d90"
      },
      "source": [
        "df2['LSATISFY'].unique()\n",
        "       "
      ],
      "execution_count": 8,
      "outputs": [
        {
          "output_type": "execute_result",
          "data": {
            "text/plain": [
              "array([ 1., nan,  2.,  3.,  4.,  7.,  9.])"
            ]
          },
          "metadata": {
            "tags": []
          },
          "execution_count": 8
        }
      ]
    },
    {
      "cell_type": "code",
      "metadata": {
        "id": "S-bWIeViHhSo",
        "colab_type": "code",
        "colab": {
          "base_uri": "https://localhost:8080/",
          "height": 51
        },
        "outputId": "3323b6cf-3c5d-41b4-90c9-eb97eeed0b0a"
      },
      "source": [
        "df2['ADPLEASR'].unique()"
      ],
      "execution_count": 9,
      "outputs": [
        {
          "output_type": "execute_result",
          "data": {
            "text/plain": [
              "array([nan, 88.,  1.,  8.,  2., 14.,  7., 77., 10.,  3.,  4.,  5., 99.,\n",
              "       12.,  6.,  9., 11., 13.])"
            ]
          },
          "metadata": {
            "tags": []
          },
          "execution_count": 9
        }
      ]
    },
    {
      "cell_type": "code",
      "metadata": {
        "id": "XTpVGX9sHhSs",
        "colab_type": "code",
        "colab": {
          "base_uri": "https://localhost:8080/",
          "height": 51
        },
        "outputId": "56a3df99-d97f-4a6c-d95b-f587d49fdc98"
      },
      "source": [
        "df2['ADDOWN'].unique()"
      ],
      "execution_count": 10,
      "outputs": [
        {
          "output_type": "execute_result",
          "data": {
            "text/plain": [
              "array([nan, 88.,  1., 14.,  3.,  4.,  2., 10.,  5.,  8., 77.,  7.,  6.,\n",
              "       99.,  9., 12., 13., 11.])"
            ]
          },
          "metadata": {
            "tags": []
          },
          "execution_count": 10
        }
      ]
    },
    {
      "cell_type": "code",
      "metadata": {
        "id": "uGyhwKQjHhSy",
        "colab_type": "code",
        "colab": {
          "base_uri": "https://localhost:8080/",
          "height": 51
        },
        "outputId": "d24b5fb5-5834-4785-8214-37dec7903ccf"
      },
      "source": [
        "df2['ADSLEEP'].unique()"
      ],
      "execution_count": 11,
      "outputs": [
        {
          "output_type": "execute_result",
          "data": {
            "text/plain": [
              "array([nan,  1., 88.,  4.,  2., 10.,  5.,  3.,  9., 14., 99.,  7., 77.,\n",
              "        6., 12., 13.,  8., 11.])"
            ]
          },
          "metadata": {
            "tags": []
          },
          "execution_count": 11
        }
      ]
    },
    {
      "cell_type": "code",
      "metadata": {
        "id": "JnPepBMkHhS2",
        "colab_type": "code",
        "colab": {
          "base_uri": "https://localhost:8080/",
          "height": 51
        },
        "outputId": "f5eb911f-96fd-4f6e-9e39-1037946686f8"
      },
      "source": [
        "df2['ADENERGY'].unique()"
      ],
      "execution_count": 12,
      "outputs": [
        {
          "output_type": "execute_result",
          "data": {
            "text/plain": [
              "array([nan,  1.,  3., 88.,  6.,  2.,  5.,  7.,  4., 14.,  8., 13., 10.,\n",
              "       77., 99., 12.,  9., 11.])"
            ]
          },
          "metadata": {
            "tags": []
          },
          "execution_count": 12
        }
      ]
    },
    {
      "cell_type": "code",
      "metadata": {
        "id": "IEEew_UfHhS5",
        "colab_type": "code",
        "colab": {
          "base_uri": "https://localhost:8080/",
          "height": 51
        },
        "outputId": "85b53593-d925-423d-d01a-458aeba7b2ff"
      },
      "source": [
        "df2['ADEAT1'].unique()"
      ],
      "execution_count": 13,
      "outputs": [
        {
          "output_type": "execute_result",
          "data": {
            "text/plain": [
              "array([nan,  2., 88.,  3.,  1.,  7., 10.,  4., 14.,  5.,  8.,  6., 99.,\n",
              "       77., 12.,  9., 11., 13.])"
            ]
          },
          "metadata": {
            "tags": []
          },
          "execution_count": 13
        }
      ]
    },
    {
      "cell_type": "code",
      "metadata": {
        "id": "2YlPZJfCHhS9",
        "colab_type": "code",
        "colab": {
          "base_uri": "https://localhost:8080/",
          "height": 51
        },
        "outputId": "7d8a83f4-0923-40a4-dc93-4ec3b0b888d4"
      },
      "source": [
        "df2['ADFAIL'].unique()"
      ],
      "execution_count": 14,
      "outputs": [
        {
          "output_type": "execute_result",
          "data": {
            "text/plain": [
              "array([nan, 88.,  7.,  3.,  1., 14.,  2., 10.,  9.,  8., 12., 77.,  5.,\n",
              "        4., 99.,  6., 13., 11.])"
            ]
          },
          "metadata": {
            "tags": []
          },
          "execution_count": 14
        }
      ]
    },
    {
      "cell_type": "code",
      "metadata": {
        "id": "Qsh09GhIHhTE",
        "colab_type": "code",
        "colab": {
          "base_uri": "https://localhost:8080/",
          "height": 51
        },
        "outputId": "1690184d-5c4c-4ced-b662-ca3b28d8ffe9"
      },
      "source": [
        "df2['ADTHINK'].unique()"
      ],
      "execution_count": 15,
      "outputs": [
        {
          "output_type": "execute_result",
          "data": {
            "text/plain": [
              "array([nan, 88.,  4., 10.,  2.,  1.,  6.,  3., 14.,  5., 12.,  7., 77.,\n",
              "       99.,  8., 13., 11.,  9.])"
            ]
          },
          "metadata": {
            "tags": []
          },
          "execution_count": 15
        }
      ]
    },
    {
      "cell_type": "code",
      "metadata": {
        "id": "s4QWBEuKHhTH",
        "colab_type": "code",
        "colab": {
          "base_uri": "https://localhost:8080/",
          "height": 51
        },
        "outputId": "7d71d76c-bbbf-4ec5-b282-3c8a94a13518"
      },
      "source": [
        "df2['ADMOVE'].unique()"
      ],
      "execution_count": 16,
      "outputs": [
        {
          "output_type": "execute_result",
          "data": {
            "text/plain": [
              "array([nan, 88., 10., 14.,  2.,  1., 77.,  7.,  4.,  5.,  6., 99.,  3.,\n",
              "        8., 12.,  9., 11., 13.])"
            ]
          },
          "metadata": {
            "tags": []
          },
          "execution_count": 16
        }
      ]
    },
    {
      "cell_type": "code",
      "metadata": {
        "id": "QhARbKlkHhTL",
        "colab_type": "code",
        "colab": {
          "base_uri": "https://localhost:8080/",
          "height": 34
        },
        "outputId": "41d4f69f-9c7d-46bf-ef3c-18982217246d"
      },
      "source": [
        "df2['ADANXEV'].unique()"
      ],
      "execution_count": 17,
      "outputs": [
        {
          "output_type": "execute_result",
          "data": {
            "text/plain": [
              "array([nan,  2.,  1.,  9.,  7.])"
            ]
          },
          "metadata": {
            "tags": []
          },
          "execution_count": 17
        }
      ]
    },
    {
      "cell_type": "code",
      "metadata": {
        "id": "yI1I7vldHhTO",
        "colab_type": "code",
        "colab": {
          "base_uri": "https://localhost:8080/",
          "height": 34
        },
        "outputId": "76408482-b2c8-442a-a5fb-f0b3d7044aed"
      },
      "source": [
        "df2['ADDEPEV'].unique()"
      ],
      "execution_count": 18,
      "outputs": [
        {
          "output_type": "execute_result",
          "data": {
            "text/plain": [
              "array([nan,  2.,  1.,  9.,  7.])"
            ]
          },
          "metadata": {
            "tags": []
          },
          "execution_count": 18
        }
      ]
    },
    {
      "cell_type": "code",
      "metadata": {
        "id": "YlY8mfU8HhTV",
        "colab_type": "code",
        "colab": {
          "base_uri": "https://localhost:8080/",
          "height": 317
        },
        "outputId": "eff2b75c-01bc-473a-b3d2-cf865d87f02f"
      },
      "source": [
        "#create a separate df with mental health related variables\n",
        "mental_health=df2\n",
        "mental_health.describe()\n"
      ],
      "execution_count": 19,
      "outputs": [
        {
          "output_type": "execute_result",
          "data": {
            "text/html": [
              "<div>\n",
              "<style scoped>\n",
              "    .dataframe tbody tr th:only-of-type {\n",
              "        vertical-align: middle;\n",
              "    }\n",
              "\n",
              "    .dataframe tbody tr th {\n",
              "        vertical-align: top;\n",
              "    }\n",
              "\n",
              "    .dataframe thead th {\n",
              "        text-align: right;\n",
              "    }\n",
              "</style>\n",
              "<table border=\"1\" class=\"dataframe\">\n",
              "  <thead>\n",
              "    <tr style=\"text-align: right;\">\n",
              "      <th></th>\n",
              "      <th>EMTSUPRT</th>\n",
              "      <th>LSATISFY</th>\n",
              "      <th>ADPLEASR</th>\n",
              "      <th>ADDOWN</th>\n",
              "      <th>ADSLEEP</th>\n",
              "      <th>ADENERGY</th>\n",
              "      <th>ADEAT1</th>\n",
              "      <th>ADFAIL</th>\n",
              "      <th>ADTHINK</th>\n",
              "      <th>ADMOVE</th>\n",
              "      <th>ADANXEV</th>\n",
              "      <th>ADDEPEV</th>\n",
              "    </tr>\n",
              "  </thead>\n",
              "  <tbody>\n",
              "    <tr>\n",
              "      <th>count</th>\n",
              "      <td>436221.000000</td>\n",
              "      <td>435968.000000</td>\n",
              "      <td>79466.000000</td>\n",
              "      <td>79420.000000</td>\n",
              "      <td>79391.000000</td>\n",
              "      <td>79367.000000</td>\n",
              "      <td>79335.000000</td>\n",
              "      <td>79298.000000</td>\n",
              "      <td>79266.000000</td>\n",
              "      <td>79219.000000</td>\n",
              "      <td>79160.000000</td>\n",
              "      <td>79104.000000</td>\n",
              "    </tr>\n",
              "    <tr>\n",
              "      <th>mean</th>\n",
              "      <td>1.974605</td>\n",
              "      <td>1.688021</td>\n",
              "      <td>61.909974</td>\n",
              "      <td>65.177739</td>\n",
              "      <td>50.676638</td>\n",
              "      <td>36.939232</td>\n",
              "      <td>59.207676</td>\n",
              "      <td>74.269868</td>\n",
              "      <td>73.963553</td>\n",
              "      <td>79.497684</td>\n",
              "      <td>1.892724</td>\n",
              "      <td>1.843459</td>\n",
              "    </tr>\n",
              "    <tr>\n",
              "      <th>std</th>\n",
              "      <td>1.444904</td>\n",
              "      <td>0.973586</td>\n",
              "      <td>38.298421</td>\n",
              "      <td>37.122756</td>\n",
              "      <td>40.693882</td>\n",
              "      <td>39.828500</td>\n",
              "      <td>39.124483</td>\n",
              "      <td>30.735371</td>\n",
              "      <td>30.872160</td>\n",
              "      <td>24.815877</td>\n",
              "      <td>0.513281</td>\n",
              "      <td>0.528095</td>\n",
              "    </tr>\n",
              "    <tr>\n",
              "      <th>min</th>\n",
              "      <td>1.000000</td>\n",
              "      <td>1.000000</td>\n",
              "      <td>1.000000</td>\n",
              "      <td>1.000000</td>\n",
              "      <td>1.000000</td>\n",
              "      <td>1.000000</td>\n",
              "      <td>1.000000</td>\n",
              "      <td>1.000000</td>\n",
              "      <td>1.000000</td>\n",
              "      <td>1.000000</td>\n",
              "      <td>1.000000</td>\n",
              "      <td>1.000000</td>\n",
              "    </tr>\n",
              "    <tr>\n",
              "      <th>25%</th>\n",
              "      <td>1.000000</td>\n",
              "      <td>1.000000</td>\n",
              "      <td>10.000000</td>\n",
              "      <td>14.000000</td>\n",
              "      <td>5.000000</td>\n",
              "      <td>3.000000</td>\n",
              "      <td>8.000000</td>\n",
              "      <td>88.000000</td>\n",
              "      <td>88.000000</td>\n",
              "      <td>88.000000</td>\n",
              "      <td>2.000000</td>\n",
              "      <td>2.000000</td>\n",
              "    </tr>\n",
              "    <tr>\n",
              "      <th>50%</th>\n",
              "      <td>1.000000</td>\n",
              "      <td>2.000000</td>\n",
              "      <td>88.000000</td>\n",
              "      <td>88.000000</td>\n",
              "      <td>88.000000</td>\n",
              "      <td>14.000000</td>\n",
              "      <td>88.000000</td>\n",
              "      <td>88.000000</td>\n",
              "      <td>88.000000</td>\n",
              "      <td>88.000000</td>\n",
              "      <td>2.000000</td>\n",
              "      <td>2.000000</td>\n",
              "    </tr>\n",
              "    <tr>\n",
              "      <th>75%</th>\n",
              "      <td>2.000000</td>\n",
              "      <td>2.000000</td>\n",
              "      <td>88.000000</td>\n",
              "      <td>88.000000</td>\n",
              "      <td>88.000000</td>\n",
              "      <td>88.000000</td>\n",
              "      <td>88.000000</td>\n",
              "      <td>88.000000</td>\n",
              "      <td>88.000000</td>\n",
              "      <td>88.000000</td>\n",
              "      <td>2.000000</td>\n",
              "      <td>2.000000</td>\n",
              "    </tr>\n",
              "    <tr>\n",
              "      <th>max</th>\n",
              "      <td>9.000000</td>\n",
              "      <td>9.000000</td>\n",
              "      <td>99.000000</td>\n",
              "      <td>99.000000</td>\n",
              "      <td>99.000000</td>\n",
              "      <td>99.000000</td>\n",
              "      <td>99.000000</td>\n",
              "      <td>99.000000</td>\n",
              "      <td>99.000000</td>\n",
              "      <td>99.000000</td>\n",
              "      <td>9.000000</td>\n",
              "      <td>9.000000</td>\n",
              "    </tr>\n",
              "  </tbody>\n",
              "</table>\n",
              "</div>"
            ],
            "text/plain": [
              "            EMTSUPRT       LSATISFY  ...       ADANXEV       ADDEPEV\n",
              "count  436221.000000  435968.000000  ...  79160.000000  79104.000000\n",
              "mean        1.974605       1.688021  ...      1.892724      1.843459\n",
              "std         1.444904       0.973586  ...      0.513281      0.528095\n",
              "min         1.000000       1.000000  ...      1.000000      1.000000\n",
              "25%         1.000000       1.000000  ...      2.000000      2.000000\n",
              "50%         1.000000       2.000000  ...      2.000000      2.000000\n",
              "75%         2.000000       2.000000  ...      2.000000      2.000000\n",
              "max         9.000000       9.000000  ...      9.000000      9.000000\n",
              "\n",
              "[8 rows x 12 columns]"
            ]
          },
          "metadata": {
            "tags": []
          },
          "execution_count": 19
        }
      ]
    },
    {
      "cell_type": "code",
      "metadata": {
        "id": "N1l-a5f2HhTZ",
        "colab_type": "code",
        "colab": {
          "base_uri": "https://localhost:8080/",
          "height": 34
        },
        "outputId": "d4294ef6-e03e-479b-a462-a1ab034bfe19"
      },
      "source": [
        "#88 represents 'None', so replace with 0 for all applicable columns\n",
        "import numpy as np\n",
        "mental_health.describe()\n",
        "mental_health.ADPLEASR.unique()\n",
        "cols=list(mental_health.columns)\n",
        "cols\n",
        "\n",
        "\n",
        "mental_health.replace(88, 0, inplace=True)\n",
        "mental_health.replace(77, np.nan, inplace=True)\n",
        "mental_health.replace(99, np.nan, inplace=True)\n",
        "mental_health['ADDEPEV'].replace(to_replace=7, value=np.nan, inplace=True)\n",
        "mental_health['ADDEPEV'].replace(to_replace=9, value=np.nan, inplace=True)\n",
        "mental_health['ADDEPEV'].replace(to_replace=2, value=0, inplace=True)\n",
        "\n",
        "mental_health.EMTSUPRT.unique()\n",
        "mental_health.LSATISFY.unique()\n",
        "mental_health['ADDEPEV'].unique()\n",
        "\n"
      ],
      "execution_count": 20,
      "outputs": [
        {
          "output_type": "execute_result",
          "data": {
            "text/plain": [
              "array([nan,  0.,  1.])"
            ]
          },
          "metadata": {
            "tags": []
          },
          "execution_count": 20
        }
      ]
    },
    {
      "cell_type": "code",
      "metadata": {
        "id": "pNTCIjB2HhTe",
        "colab_type": "code",
        "colab": {
          "base_uri": "https://localhost:8080/",
          "height": 68
        },
        "outputId": "9c026592-ff03-425b-e3f7-01d7c85eafb5"
      },
      "source": [
        "mental_health.columns\n"
      ],
      "execution_count": 21,
      "outputs": [
        {
          "output_type": "execute_result",
          "data": {
            "text/plain": [
              "Index(['EMTSUPRT', 'LSATISFY', 'ADPLEASR', 'ADDOWN', 'ADSLEEP', 'ADENERGY',\n",
              "       'ADEAT1', 'ADFAIL', 'ADTHINK', 'ADMOVE', 'ADANXEV', 'ADDEPEV'],\n",
              "      dtype='object')"
            ]
          },
          "metadata": {
            "tags": []
          },
          "execution_count": 21
        }
      ]
    },
    {
      "cell_type": "code",
      "metadata": {
        "id": "KsnSdYbOHhTk",
        "colab_type": "code",
        "colab": {}
      },
      "source": [
        "#display number of missing values\n",
        "nas=pd.DataFrame(mental_health.isnull().sum().sort_values(ascending=False),columns = ['Missing'])\n",
        "pos = nas['Missing'] > 0\n",
        "nas[pos]\n",
        "mental_health.dropna(inplace=True)"
      ],
      "execution_count": 22,
      "outputs": []
    },
    {
      "cell_type": "code",
      "metadata": {
        "id": "EqeHHM0NHhTo",
        "colab_type": "code",
        "colab": {
          "base_uri": "https://localhost:8080/",
          "height": 49
        },
        "outputId": "e498cbde-fe6c-4f06-d100-070d6fd95c02"
      },
      "source": [
        "nas=pd.DataFrame(mental_health.isnull().sum().sort_values(ascending=False),columns = ['Missing'])\n",
        "pos = nas['Missing'] > 0\n",
        "nas[pos]"
      ],
      "execution_count": 23,
      "outputs": [
        {
          "output_type": "execute_result",
          "data": {
            "text/html": [
              "<div>\n",
              "<style scoped>\n",
              "    .dataframe tbody tr th:only-of-type {\n",
              "        vertical-align: middle;\n",
              "    }\n",
              "\n",
              "    .dataframe tbody tr th {\n",
              "        vertical-align: top;\n",
              "    }\n",
              "\n",
              "    .dataframe thead th {\n",
              "        text-align: right;\n",
              "    }\n",
              "</style>\n",
              "<table border=\"1\" class=\"dataframe\">\n",
              "  <thead>\n",
              "    <tr style=\"text-align: right;\">\n",
              "      <th></th>\n",
              "      <th>Missing</th>\n",
              "    </tr>\n",
              "  </thead>\n",
              "  <tbody>\n",
              "  </tbody>\n",
              "</table>\n",
              "</div>"
            ],
            "text/plain": [
              "Empty DataFrame\n",
              "Columns: [Missing]\n",
              "Index: []"
            ]
          },
          "metadata": {
            "tags": []
          },
          "execution_count": 23
        }
      ]
    },
    {
      "cell_type": "code",
      "metadata": {
        "id": "bYZEU6k-HhTv",
        "colab_type": "code",
        "colab": {
          "base_uri": "https://localhost:8080/",
          "height": 317
        },
        "outputId": "19b33ab1-d3a1-45e3-f663-3ef6e141ff59"
      },
      "source": [
        "\n",
        "mental_health.describe()"
      ],
      "execution_count": 24,
      "outputs": [
        {
          "output_type": "execute_result",
          "data": {
            "text/html": [
              "<div>\n",
              "<style scoped>\n",
              "    .dataframe tbody tr th:only-of-type {\n",
              "        vertical-align: middle;\n",
              "    }\n",
              "\n",
              "    .dataframe tbody tr th {\n",
              "        vertical-align: top;\n",
              "    }\n",
              "\n",
              "    .dataframe thead th {\n",
              "        text-align: right;\n",
              "    }\n",
              "</style>\n",
              "<table border=\"1\" class=\"dataframe\">\n",
              "  <thead>\n",
              "    <tr style=\"text-align: right;\">\n",
              "      <th></th>\n",
              "      <th>EMTSUPRT</th>\n",
              "      <th>LSATISFY</th>\n",
              "      <th>ADPLEASR</th>\n",
              "      <th>ADDOWN</th>\n",
              "      <th>ADSLEEP</th>\n",
              "      <th>ADENERGY</th>\n",
              "      <th>ADEAT1</th>\n",
              "      <th>ADFAIL</th>\n",
              "      <th>ADTHINK</th>\n",
              "      <th>ADMOVE</th>\n",
              "      <th>ADANXEV</th>\n",
              "      <th>ADDEPEV</th>\n",
              "    </tr>\n",
              "  </thead>\n",
              "  <tbody>\n",
              "    <tr>\n",
              "      <th>count</th>\n",
              "      <td>72432.000000</td>\n",
              "      <td>72432.000000</td>\n",
              "      <td>72432.000000</td>\n",
              "      <td>72432.000000</td>\n",
              "      <td>72432.000000</td>\n",
              "      <td>72432.000000</td>\n",
              "      <td>72432.000000</td>\n",
              "      <td>72432.000000</td>\n",
              "      <td>72432.000000</td>\n",
              "      <td>72432.000000</td>\n",
              "      <td>72432.000000</td>\n",
              "      <td>72432.000000</td>\n",
              "    </tr>\n",
              "    <tr>\n",
              "      <th>mean</th>\n",
              "      <td>1.869174</td>\n",
              "      <td>1.605244</td>\n",
              "      <td>1.656851</td>\n",
              "      <td>1.279172</td>\n",
              "      <td>2.902971</td>\n",
              "      <td>3.638516</td>\n",
              "      <td>2.092625</td>\n",
              "      <td>0.901770</td>\n",
              "      <td>1.004846</td>\n",
              "      <td>0.622184</td>\n",
              "      <td>1.880288</td>\n",
              "      <td>0.176745</td>\n",
              "    </tr>\n",
              "    <tr>\n",
              "      <th>std</th>\n",
              "      <td>1.263659</td>\n",
              "      <td>0.722140</td>\n",
              "      <td>3.488507</td>\n",
              "      <td>3.079750</td>\n",
              "      <td>4.559253</td>\n",
              "      <td>4.694482</td>\n",
              "      <td>3.981459</td>\n",
              "      <td>2.805918</td>\n",
              "      <td>2.962154</td>\n",
              "      <td>2.390097</td>\n",
              "      <td>0.414177</td>\n",
              "      <td>0.381455</td>\n",
              "    </tr>\n",
              "    <tr>\n",
              "      <th>min</th>\n",
              "      <td>1.000000</td>\n",
              "      <td>1.000000</td>\n",
              "      <td>0.000000</td>\n",
              "      <td>0.000000</td>\n",
              "      <td>0.000000</td>\n",
              "      <td>0.000000</td>\n",
              "      <td>0.000000</td>\n",
              "      <td>0.000000</td>\n",
              "      <td>0.000000</td>\n",
              "      <td>0.000000</td>\n",
              "      <td>1.000000</td>\n",
              "      <td>0.000000</td>\n",
              "    </tr>\n",
              "    <tr>\n",
              "      <th>25%</th>\n",
              "      <td>1.000000</td>\n",
              "      <td>1.000000</td>\n",
              "      <td>0.000000</td>\n",
              "      <td>0.000000</td>\n",
              "      <td>0.000000</td>\n",
              "      <td>0.000000</td>\n",
              "      <td>0.000000</td>\n",
              "      <td>0.000000</td>\n",
              "      <td>0.000000</td>\n",
              "      <td>0.000000</td>\n",
              "      <td>2.000000</td>\n",
              "      <td>0.000000</td>\n",
              "    </tr>\n",
              "    <tr>\n",
              "      <th>50%</th>\n",
              "      <td>1.000000</td>\n",
              "      <td>2.000000</td>\n",
              "      <td>0.000000</td>\n",
              "      <td>0.000000</td>\n",
              "      <td>0.000000</td>\n",
              "      <td>2.000000</td>\n",
              "      <td>0.000000</td>\n",
              "      <td>0.000000</td>\n",
              "      <td>0.000000</td>\n",
              "      <td>0.000000</td>\n",
              "      <td>2.000000</td>\n",
              "      <td>0.000000</td>\n",
              "    </tr>\n",
              "    <tr>\n",
              "      <th>75%</th>\n",
              "      <td>2.000000</td>\n",
              "      <td>2.000000</td>\n",
              "      <td>2.000000</td>\n",
              "      <td>1.000000</td>\n",
              "      <td>4.000000</td>\n",
              "      <td>5.000000</td>\n",
              "      <td>2.000000</td>\n",
              "      <td>0.000000</td>\n",
              "      <td>0.000000</td>\n",
              "      <td>0.000000</td>\n",
              "      <td>2.000000</td>\n",
              "      <td>0.000000</td>\n",
              "    </tr>\n",
              "    <tr>\n",
              "      <th>max</th>\n",
              "      <td>9.000000</td>\n",
              "      <td>9.000000</td>\n",
              "      <td>14.000000</td>\n",
              "      <td>14.000000</td>\n",
              "      <td>14.000000</td>\n",
              "      <td>14.000000</td>\n",
              "      <td>14.000000</td>\n",
              "      <td>14.000000</td>\n",
              "      <td>14.000000</td>\n",
              "      <td>14.000000</td>\n",
              "      <td>9.000000</td>\n",
              "      <td>1.000000</td>\n",
              "    </tr>\n",
              "  </tbody>\n",
              "</table>\n",
              "</div>"
            ],
            "text/plain": [
              "           EMTSUPRT      LSATISFY  ...       ADANXEV       ADDEPEV\n",
              "count  72432.000000  72432.000000  ...  72432.000000  72432.000000\n",
              "mean       1.869174      1.605244  ...      1.880288      0.176745\n",
              "std        1.263659      0.722140  ...      0.414177      0.381455\n",
              "min        1.000000      1.000000  ...      1.000000      0.000000\n",
              "25%        1.000000      1.000000  ...      2.000000      0.000000\n",
              "50%        1.000000      2.000000  ...      2.000000      0.000000\n",
              "75%        2.000000      2.000000  ...      2.000000      0.000000\n",
              "max        9.000000      9.000000  ...      9.000000      1.000000\n",
              "\n",
              "[8 rows x 12 columns]"
            ]
          },
          "metadata": {
            "tags": []
          },
          "execution_count": 24
        }
      ]
    },
    {
      "cell_type": "code",
      "metadata": {
        "colab_type": "code",
        "id": "CvpinwNIbv-k",
        "colab": {
          "base_uri": "https://localhost:8080/",
          "height": 291
        },
        "outputId": "313a3a1d-dddc-4a7e-9935-133d6bc36933"
      },
      "source": [
        "#work with categorical EDA Bar Charts\n",
        "mental_health['EMTSUPRT'].value_counts().plot(kind='bar')\n"
      ],
      "execution_count": 25,
      "outputs": [
        {
          "output_type": "execute_result",
          "data": {
            "text/plain": [
              "<matplotlib.axes._subplots.AxesSubplot at 0x7f7afc2c3160>"
            ]
          },
          "metadata": {
            "tags": []
          },
          "execution_count": 25
        },
        {
          "output_type": "display_data",
          "data": {
            "image/png": "[encoded data removed]",
            "text/plain": [
              "<Figure size 432x288 with 1 Axes>"
            ]
          },
          "metadata": {
            "tags": [],
            "needs_background": "light"
          }
        }
      ]
    },
    {
      "cell_type": "code",
      "metadata": {
        "colab_type": "code",
        "id": "zHyRb_UmmHIa",
        "colab": {
          "base_uri": "https://localhost:8080/",
          "height": 288
        },
        "outputId": "25099dc6-4bd3-41ad-bcc4-d48319c7aa91"
      },
      "source": [
        "#work with df2 for categorical EDA\n",
        "mental_health['LSATISFY'].value_counts().plot(kind='bar')"
      ],
      "execution_count": 26,
      "outputs": [
        {
          "output_type": "execute_result",
          "data": {
            "text/plain": [
              "<matplotlib.axes._subplots.AxesSubplot at 0x7f7afc79afd0>"
            ]
          },
          "metadata": {
            "tags": []
          },
          "execution_count": 26
        },
        {
          "output_type": "display_data",
          "data": {
            "image/png": "[encoded data removed]",
            "text/plain": [
              "<Figure size 432x288 with 1 Axes>"
            ]
          },
          "metadata": {
            "tags": [],
            "needs_background": "light"
          }
        }
      ]
    },
    {
      "cell_type": "code",
      "metadata": {
        "colab_type": "code",
        "id": "B9x7CNvRmHIe",
        "colab": {
          "base_uri": "https://localhost:8080/",
          "height": 288
        },
        "outputId": "e435fecf-1c63-4f29-ad5d-30ca8e34f327"
      },
      "source": [
        "mental_health['ADANXEV'].value_counts().plot(kind='bar')"
      ],
      "execution_count": 27,
      "outputs": [
        {
          "output_type": "execute_result",
          "data": {
            "text/plain": [
              "<matplotlib.axes._subplots.AxesSubplot at 0x7f7afc5927f0>"
            ]
          },
          "metadata": {
            "tags": []
          },
          "execution_count": 27
        },
        {
          "output_type": "display_data",
          "data": {
            "image/png": "[encoded data removed]",
            "text/plain": [
              "<Figure size 432x288 with 1 Axes>"
            ]
          },
          "metadata": {
            "tags": [],
            "needs_background": "light"
          }
        }
      ]
    },
    {
      "cell_type": "code",
      "metadata": {
        "colab_type": "code",
        "id": "DVD71uITmHIi",
        "colab": {
          "base_uri": "https://localhost:8080/",
          "height": 288
        },
        "outputId": "8fb1d546-e398-4b5a-ec9a-6d72501fd692"
      },
      "source": [
        "mental_health['ADDEPEV'].value_counts().plot(kind='bar')"
      ],
      "execution_count": 28,
      "outputs": [
        {
          "output_type": "execute_result",
          "data": {
            "text/plain": [
              "<matplotlib.axes._subplots.AxesSubplot at 0x7f7afc7b34e0>"
            ]
          },
          "metadata": {
            "tags": []
          },
          "execution_count": 28
        },
        {
          "output_type": "display_data",
          "data": {
            "image/png": "[encoded data removed]",
            "text/plain": [
              "<Figure size 432x288 with 1 Axes>"
            ]
          },
          "metadata": {
            "tags": [],
            "needs_background": "light"
          }
        }
      ]
    },
    {
      "cell_type": "code",
      "metadata": {
        "colab_type": "code",
        "id": "Wu5dcEklmHJI",
        "colab": {
          "base_uri": "https://localhost:8080/",
          "height": 385
        },
        "outputId": "f5021848-e61e-4019-92de-67a43fafc23f"
      },
      "source": [
        "import pandas as pd\n",
        "import matplotlib.pyplot as plt\n",
        "\n",
        "import seaborn as sns\n",
        "\n",
        "corrMatrix = mental_health.corr()\n",
        "sns.heatmap(corrMatrix, annot=True, cmap='RdBu')\n",
        "plt.figure(figsize=(20,20))\n",
        "plt.show()\n",
        "#focus on the AD items as predictors of ADDEPEV"
      ],
      "execution_count": 29,
      "outputs": [
        {
          "output_type": "stream",
          "text": [
            "/usr/local/lib/python3.6/dist-packages/statsmodels/tools/_testing.py:19: FutureWarning: pandas.util.testing is deprecated. Use the functions in the public API at pandas.testing instead.\n",
            "  import pandas.util.testing as tm\n"
          ],
          "name": "stderr"
        },
        {
          "output_type": "display_data",
          "data": {
            "image/png": "[encoded data removed]",
            "text/plain": [
              "<Figure size 432x288 with 2 Axes>"
            ]
          },
          "metadata": {
            "tags": [],
            "needs_background": "light"
          }
        },
        {
          "output_type": "display_data",
          "data": {
            "text/plain": [
              "<Figure size 1440x1440 with 0 Axes>"
            ]
          },
          "metadata": {
            "tags": []
          }
        }
      ]
    },
    {
      "cell_type": "code",
      "metadata": {
        "id": "HeIqNBFLHhUP",
        "colab_type": "code",
        "colab": {
          "base_uri": "https://localhost:8080/",
          "height": 296
        },
        "outputId": "14ae8436-1e28-47f5-b4b0-aafba0592aea"
      },
      "source": [
        "sns.boxplot(data = mental_health, x='ADDEPEV', y='ADPLEASR')\n",
        "\n"
      ],
      "execution_count": 30,
      "outputs": [
        {
          "output_type": "execute_result",
          "data": {
            "text/plain": [
              "<matplotlib.axes._subplots.AxesSubplot at 0x7f7afc641d68>"
            ]
          },
          "metadata": {
            "tags": []
          },
          "execution_count": 30
        },
        {
          "output_type": "display_data",
          "data": {
            "image/png": "[encoded data removed]",
            "text/plain": [
              "<Figure size 432x288 with 1 Axes>"
            ]
          },
          "metadata": {
            "tags": [],
            "needs_background": "light"
          }
        }
      ]
    },
    {
      "cell_type": "code",
      "metadata": {
        "id": "fwQGVX3yHhUU",
        "colab_type": "code",
        "colab": {
          "base_uri": "https://localhost:8080/",
          "height": 296
        },
        "outputId": "59689a36-253c-46c2-c693-9593eca30f8b"
      },
      "source": [
        "sns.violinplot(data = mental_health, x='ADDEPEV', y='ADPLEASR')\n"
      ],
      "execution_count": 31,
      "outputs": [
        {
          "output_type": "execute_result",
          "data": {
            "text/plain": [
              "<matplotlib.axes._subplots.AxesSubplot at 0x7f7afcb25978>"
            ]
          },
          "metadata": {
            "tags": []
          },
          "execution_count": 31
        },
        {
          "output_type": "display_data",
          "data": {
            "image/png": "[encoded data removed]",
            "text/plain": [
              "<Figure size 432x288 with 1 Axes>"
            ]
          },
          "metadata": {
            "tags": [],
            "needs_background": "light"
          }
        }
      ]
    },
    {
      "cell_type": "code",
      "metadata": {
        "colab_type": "code",
        "id": "MhwFgD4oxy3Y",
        "colab": {
          "base_uri": "https://localhost:8080/",
          "height": 296
        },
        "outputId": "760caa70-c1a6-4ce7-eb61-3f7bf1e14a25"
      },
      "source": [
        "sns.boxplot(data = mental_health, x='ADDEPEV', y='ADDOWN')\n",
        "#people who reported depression had more days FEELING DOWN DEPRESSED OR HOPELESS"
      ],
      "execution_count": 32,
      "outputs": [
        {
          "output_type": "execute_result",
          "data": {
            "text/plain": [
              "<matplotlib.axes._subplots.AxesSubplot at 0x7f7afca4f6a0>"
            ]
          },
          "metadata": {
            "tags": []
          },
          "execution_count": 32
        },
        {
          "output_type": "display_data",
          "data": {
            "image/png": "[encoded data removed]",
            "text/plain": [
              "<Figure size 432x288 with 1 Axes>"
            ]
          },
          "metadata": {
            "tags": [],
            "needs_background": "light"
          }
        }
      ]
    },
    {
      "cell_type": "code",
      "metadata": {
        "id": "K9NNkYesHhUd",
        "colab_type": "code",
        "colab": {
          "base_uri": "https://localhost:8080/",
          "height": 296
        },
        "outputId": "48ba15a1-d618-45b4-bf50-81139972754b"
      },
      "source": [
        "sns.violinplot(data = mental_health, x='ADDEPEV', y='ADDOWN')\n",
        "#most of the people who didn't get diagnosed with depression reported 0 days of feeling down, depressed or hopeless"
      ],
      "execution_count": 33,
      "outputs": [
        {
          "output_type": "execute_result",
          "data": {
            "text/plain": [
              "<matplotlib.axes._subplots.AxesSubplot at 0x7f7afc9cf940>"
            ]
          },
          "metadata": {
            "tags": []
          },
          "execution_count": 33
        },
        {
          "output_type": "display_data",
          "data": {
            "image/png": "[encoded data removed]",
            "text/plain": [
              "<Figure size 432x288 with 1 Axes>"
            ]
          },
          "metadata": {
            "tags": [],
            "needs_background": "light"
          }
        }
      ]
    },
    {
      "cell_type": "code",
      "metadata": {
        "colab_type": "code",
        "id": "F2PSOMz4xy3a",
        "colab": {
          "base_uri": "https://localhost:8080/",
          "height": 296
        },
        "outputId": "9608fa31-3519-4fc2-dd09-980b19c358e0"
      },
      "source": [
        "sns.boxplot(data = mental_health, x='ADDEPEV', y='ADSLEEP')\n",
        "#people who reported depression had greater variability in sleeping patterns"
      ],
      "execution_count": 34,
      "outputs": [
        {
          "output_type": "execute_result",
          "data": {
            "text/plain": [
              "<matplotlib.axes._subplots.AxesSubplot at 0x7f7afc9ba128>"
            ]
          },
          "metadata": {
            "tags": []
          },
          "execution_count": 34
        },
        {
          "output_type": "display_data",
          "data": {
            "image/png": "[encoded data removed]",
            "text/plain": [
              "<Figure size 432x288 with 1 Axes>"
            ]
          },
          "metadata": {
            "tags": [],
            "needs_background": "light"
          }
        }
      ]
    },
    {
      "cell_type": "markdown",
      "metadata": {
        "id": "neuT9Uw9HhUp",
        "colab_type": "text"
      },
      "source": [
        "As shown in the above charts, most of the people who didn't get diagnosed with depression reported 0 days of little pleasure and people who reported depression had more days with little pleasure. This trend continues for the other predictor variables. The number of days that people exhibit symptoms of depression is close to zero for those with no depression and it is more varied for those with a depression diagnosis, as expected. This can be used to predict those who should be diagnosed with depression."
      ]
    },
    {
      "cell_type": "code",
      "metadata": {
        "id": "vsDjSrLhHhUp",
        "colab_type": "code",
        "colab": {
          "base_uri": "https://localhost:8080/",
          "height": 68
        },
        "outputId": "3cbbb67c-d6ee-4e77-b567-694970bc21c5"
      },
      "source": [
        "mental_health.columns"
      ],
      "execution_count": 35,
      "outputs": [
        {
          "output_type": "execute_result",
          "data": {
            "text/plain": [
              "Index(['EMTSUPRT', 'LSATISFY', 'ADPLEASR', 'ADDOWN', 'ADSLEEP', 'ADENERGY',\n",
              "       'ADEAT1', 'ADFAIL', 'ADTHINK', 'ADMOVE', 'ADANXEV', 'ADDEPEV'],\n",
              "      dtype='object')"
            ]
          },
          "metadata": {
            "tags": []
          },
          "execution_count": 35
        }
      ]
    },
    {
      "cell_type": "code",
      "metadata": {
        "id": "YofwcyPXHhUt",
        "colab_type": "code",
        "colab": {
          "base_uri": "https://localhost:8080/",
          "height": 439
        },
        "outputId": "6beba393-042f-4902-84db-b832a93c0ef7"
      },
      "source": [
        "mental_health2=pd.get_dummies(mental_health, columns=['EMTSUPRT', 'LSATISFY', 'ADANXEV'])\n",
        "mental_health2.head(100)"
      ],
      "execution_count": 36,
      "outputs": [
        {
          "output_type": "execute_result",
          "data": {
            "text/html": [
              "<div>\n",
              "<style scoped>\n",
              "    .dataframe tbody tr th:only-of-type {\n",
              "        vertical-align: middle;\n",
              "    }\n",
              "\n",
              "    .dataframe tbody tr th {\n",
              "        vertical-align: top;\n",
              "    }\n",
              "\n",
              "    .dataframe thead th {\n",
              "        text-align: right;\n",
              "    }\n",
              "</style>\n",
              "<table border=\"1\" class=\"dataframe\">\n",
              "  <thead>\n",
              "    <tr style=\"text-align: right;\">\n",
              "      <th></th>\n",
              "      <th>ADPLEASR</th>\n",
              "      <th>ADDOWN</th>\n",
              "      <th>ADSLEEP</th>\n",
              "      <th>ADENERGY</th>\n",
              "      <th>ADEAT1</th>\n",
              "      <th>ADFAIL</th>\n",
              "      <th>ADTHINK</th>\n",
              "      <th>ADMOVE</th>\n",
              "      <th>ADDEPEV</th>\n",
              "      <th>EMTSUPRT_1.0</th>\n",
              "      <th>EMTSUPRT_2.0</th>\n",
              "      <th>EMTSUPRT_3.0</th>\n",
              "      <th>EMTSUPRT_4.0</th>\n",
              "      <th>EMTSUPRT_5.0</th>\n",
              "      <th>EMTSUPRT_7.0</th>\n",
              "      <th>EMTSUPRT_9.0</th>\n",
              "      <th>LSATISFY_1.0</th>\n",
              "      <th>LSATISFY_2.0</th>\n",
              "      <th>LSATISFY_3.0</th>\n",
              "      <th>LSATISFY_4.0</th>\n",
              "      <th>LSATISFY_7.0</th>\n",
              "      <th>LSATISFY_9.0</th>\n",
              "      <th>ADANXEV_1.0</th>\n",
              "      <th>ADANXEV_2.0</th>\n",
              "      <th>ADANXEV_7.0</th>\n",
              "      <th>ADANXEV_9.0</th>\n",
              "    </tr>\n",
              "  </thead>\n",
              "  <tbody>\n",
              "    <tr>\n",
              "      <th>9632</th>\n",
              "      <td>0.0</td>\n",
              "      <td>0.0</td>\n",
              "      <td>1.0</td>\n",
              "      <td>1.0</td>\n",
              "      <td>2.0</td>\n",
              "      <td>0.0</td>\n",
              "      <td>0.0</td>\n",
              "      <td>0.0</td>\n",
              "      <td>0.0</td>\n",
              "      <td>0</td>\n",
              "      <td>1</td>\n",
              "      <td>0</td>\n",
              "      <td>0</td>\n",
              "      <td>0</td>\n",
              "      <td>0</td>\n",
              "      <td>0</td>\n",
              "      <td>0</td>\n",
              "      <td>1</td>\n",
              "      <td>0</td>\n",
              "      <td>0</td>\n",
              "      <td>0</td>\n",
              "      <td>0</td>\n",
              "      <td>0</td>\n",
              "      <td>1</td>\n",
              "      <td>0</td>\n",
              "      <td>0</td>\n",
              "    </tr>\n",
              "    <tr>\n",
              "      <th>9633</th>\n",
              "      <td>1.0</td>\n",
              "      <td>1.0</td>\n",
              "      <td>1.0</td>\n",
              "      <td>3.0</td>\n",
              "      <td>0.0</td>\n",
              "      <td>0.0</td>\n",
              "      <td>0.0</td>\n",
              "      <td>0.0</td>\n",
              "      <td>0.0</td>\n",
              "      <td>0</td>\n",
              "      <td>1</td>\n",
              "      <td>0</td>\n",
              "      <td>0</td>\n",
              "      <td>0</td>\n",
              "      <td>0</td>\n",
              "      <td>0</td>\n",
              "      <td>0</td>\n",
              "      <td>1</td>\n",
              "      <td>0</td>\n",
              "      <td>0</td>\n",
              "      <td>0</td>\n",
              "      <td>0</td>\n",
              "      <td>0</td>\n",
              "      <td>1</td>\n",
              "      <td>0</td>\n",
              "      <td>0</td>\n",
              "    </tr>\n",
              "    <tr>\n",
              "      <th>9634</th>\n",
              "      <td>0.0</td>\n",
              "      <td>0.0</td>\n",
              "      <td>1.0</td>\n",
              "      <td>0.0</td>\n",
              "      <td>3.0</td>\n",
              "      <td>0.0</td>\n",
              "      <td>0.0</td>\n",
              "      <td>0.0</td>\n",
              "      <td>0.0</td>\n",
              "      <td>1</td>\n",
              "      <td>0</td>\n",
              "      <td>0</td>\n",
              "      <td>0</td>\n",
              "      <td>0</td>\n",
              "      <td>0</td>\n",
              "      <td>0</td>\n",
              "      <td>0</td>\n",
              "      <td>0</td>\n",
              "      <td>0</td>\n",
              "      <td>1</td>\n",
              "      <td>0</td>\n",
              "      <td>0</td>\n",
              "      <td>0</td>\n",
              "      <td>1</td>\n",
              "      <td>0</td>\n",
              "      <td>0</td>\n",
              "    </tr>\n",
              "    <tr>\n",
              "      <th>9635</th>\n",
              "      <td>8.0</td>\n",
              "      <td>0.0</td>\n",
              "      <td>0.0</td>\n",
              "      <td>6.0</td>\n",
              "      <td>0.0</td>\n",
              "      <td>0.0</td>\n",
              "      <td>0.0</td>\n",
              "      <td>0.0</td>\n",
              "      <td>1.0</td>\n",
              "      <td>1</td>\n",
              "      <td>0</td>\n",
              "      <td>0</td>\n",
              "      <td>0</td>\n",
              "      <td>0</td>\n",
              "      <td>0</td>\n",
              "      <td>0</td>\n",
              "      <td>0</td>\n",
              "      <td>1</td>\n",
              "      <td>0</td>\n",
              "      <td>0</td>\n",
              "      <td>0</td>\n",
              "      <td>0</td>\n",
              "      <td>0</td>\n",
              "      <td>1</td>\n",
              "      <td>0</td>\n",
              "      <td>0</td>\n",
              "    </tr>\n",
              "    <tr>\n",
              "      <th>9636</th>\n",
              "      <td>0.0</td>\n",
              "      <td>0.0</td>\n",
              "      <td>0.0</td>\n",
              "      <td>2.0</td>\n",
              "      <td>0.0</td>\n",
              "      <td>0.0</td>\n",
              "      <td>0.0</td>\n",
              "      <td>0.0</td>\n",
              "      <td>0.0</td>\n",
              "      <td>1</td>\n",
              "      <td>0</td>\n",
              "      <td>0</td>\n",
              "      <td>0</td>\n",
              "      <td>0</td>\n",
              "      <td>0</td>\n",
              "      <td>0</td>\n",
              "      <td>1</td>\n",
              "      <td>0</td>\n",
              "      <td>0</td>\n",
              "      <td>0</td>\n",
              "      <td>0</td>\n",
              "      <td>0</td>\n",
              "      <td>0</td>\n",
              "      <td>1</td>\n",
              "      <td>0</td>\n",
              "      <td>0</td>\n",
              "    </tr>\n",
              "    <tr>\n",
              "      <th>...</th>\n",
              "      <td>...</td>\n",
              "      <td>...</td>\n",
              "      <td>...</td>\n",
              "      <td>...</td>\n",
              "      <td>...</td>\n",
              "      <td>...</td>\n",
              "      <td>...</td>\n",
              "      <td>...</td>\n",
              "      <td>...</td>\n",
              "      <td>...</td>\n",
              "      <td>...</td>\n",
              "      <td>...</td>\n",
              "      <td>...</td>\n",
              "      <td>...</td>\n",
              "      <td>...</td>\n",
              "      <td>...</td>\n",
              "      <td>...</td>\n",
              "      <td>...</td>\n",
              "      <td>...</td>\n",
              "      <td>...</td>\n",
              "      <td>...</td>\n",
              "      <td>...</td>\n",
              "      <td>...</td>\n",
              "      <td>...</td>\n",
              "      <td>...</td>\n",
              "      <td>...</td>\n",
              "    </tr>\n",
              "    <tr>\n",
              "      <th>9743</th>\n",
              "      <td>0.0</td>\n",
              "      <td>0.0</td>\n",
              "      <td>1.0</td>\n",
              "      <td>2.0</td>\n",
              "      <td>0.0</td>\n",
              "      <td>0.0</td>\n",
              "      <td>0.0</td>\n",
              "      <td>0.0</td>\n",
              "      <td>0.0</td>\n",
              "      <td>1</td>\n",
              "      <td>0</td>\n",
              "      <td>0</td>\n",
              "      <td>0</td>\n",
              "      <td>0</td>\n",
              "      <td>0</td>\n",
              "      <td>0</td>\n",
              "      <td>0</td>\n",
              "      <td>1</td>\n",
              "      <td>0</td>\n",
              "      <td>0</td>\n",
              "      <td>0</td>\n",
              "      <td>0</td>\n",
              "      <td>0</td>\n",
              "      <td>1</td>\n",
              "      <td>0</td>\n",
              "      <td>0</td>\n",
              "    </tr>\n",
              "    <tr>\n",
              "      <th>9744</th>\n",
              "      <td>1.0</td>\n",
              "      <td>0.0</td>\n",
              "      <td>14.0</td>\n",
              "      <td>14.0</td>\n",
              "      <td>2.0</td>\n",
              "      <td>1.0</td>\n",
              "      <td>5.0</td>\n",
              "      <td>2.0</td>\n",
              "      <td>0.0</td>\n",
              "      <td>0</td>\n",
              "      <td>0</td>\n",
              "      <td>1</td>\n",
              "      <td>0</td>\n",
              "      <td>0</td>\n",
              "      <td>0</td>\n",
              "      <td>0</td>\n",
              "      <td>0</td>\n",
              "      <td>1</td>\n",
              "      <td>0</td>\n",
              "      <td>0</td>\n",
              "      <td>0</td>\n",
              "      <td>0</td>\n",
              "      <td>1</td>\n",
              "      <td>0</td>\n",
              "      <td>0</td>\n",
              "      <td>0</td>\n",
              "    </tr>\n",
              "    <tr>\n",
              "      <th>9745</th>\n",
              "      <td>3.0</td>\n",
              "      <td>0.0</td>\n",
              "      <td>1.0</td>\n",
              "      <td>3.0</td>\n",
              "      <td>1.0</td>\n",
              "      <td>3.0</td>\n",
              "      <td>0.0</td>\n",
              "      <td>0.0</td>\n",
              "      <td>0.0</td>\n",
              "      <td>0</td>\n",
              "      <td>0</td>\n",
              "      <td>1</td>\n",
              "      <td>0</td>\n",
              "      <td>0</td>\n",
              "      <td>0</td>\n",
              "      <td>0</td>\n",
              "      <td>0</td>\n",
              "      <td>1</td>\n",
              "      <td>0</td>\n",
              "      <td>0</td>\n",
              "      <td>0</td>\n",
              "      <td>0</td>\n",
              "      <td>0</td>\n",
              "      <td>1</td>\n",
              "      <td>0</td>\n",
              "      <td>0</td>\n",
              "    </tr>\n",
              "    <tr>\n",
              "      <th>9746</th>\n",
              "      <td>0.0</td>\n",
              "      <td>0.0</td>\n",
              "      <td>0.0</td>\n",
              "      <td>0.0</td>\n",
              "      <td>0.0</td>\n",
              "      <td>0.0</td>\n",
              "      <td>0.0</td>\n",
              "      <td>0.0</td>\n",
              "      <td>0.0</td>\n",
              "      <td>0</td>\n",
              "      <td>1</td>\n",
              "      <td>0</td>\n",
              "      <td>0</td>\n",
              "      <td>0</td>\n",
              "      <td>0</td>\n",
              "      <td>0</td>\n",
              "      <td>0</td>\n",
              "      <td>1</td>\n",
              "      <td>0</td>\n",
              "      <td>0</td>\n",
              "      <td>0</td>\n",
              "      <td>0</td>\n",
              "      <td>0</td>\n",
              "      <td>1</td>\n",
              "      <td>0</td>\n",
              "      <td>0</td>\n",
              "    </tr>\n",
              "    <tr>\n",
              "      <th>9747</th>\n",
              "      <td>14.0</td>\n",
              "      <td>14.0</td>\n",
              "      <td>0.0</td>\n",
              "      <td>14.0</td>\n",
              "      <td>0.0</td>\n",
              "      <td>14.0</td>\n",
              "      <td>0.0</td>\n",
              "      <td>0.0</td>\n",
              "      <td>0.0</td>\n",
              "      <td>0</td>\n",
              "      <td>0</td>\n",
              "      <td>0</td>\n",
              "      <td>0</td>\n",
              "      <td>1</td>\n",
              "      <td>0</td>\n",
              "      <td>0</td>\n",
              "      <td>0</td>\n",
              "      <td>1</td>\n",
              "      <td>0</td>\n",
              "      <td>0</td>\n",
              "      <td>0</td>\n",
              "      <td>0</td>\n",
              "      <td>0</td>\n",
              "      <td>1</td>\n",
              "      <td>0</td>\n",
              "      <td>0</td>\n",
              "    </tr>\n",
              "  </tbody>\n",
              "</table>\n",
              "<p>100 rows × 26 columns</p>\n",
              "</div>"
            ],
            "text/plain": [
              "      ADPLEASR  ADDOWN  ADSLEEP  ...  ADANXEV_2.0  ADANXEV_7.0  ADANXEV_9.0\n",
              "9632       0.0     0.0      1.0  ...            1            0            0\n",
              "9633       1.0     1.0      1.0  ...            1            0            0\n",
              "9634       0.0     0.0      1.0  ...            1            0            0\n",
              "9635       8.0     0.0      0.0  ...            1            0            0\n",
              "9636       0.0     0.0      0.0  ...            1            0            0\n",
              "...        ...     ...      ...  ...          ...          ...          ...\n",
              "9743       0.0     0.0      1.0  ...            1            0            0\n",
              "9744       1.0     0.0     14.0  ...            0            0            0\n",
              "9745       3.0     0.0      1.0  ...            1            0            0\n",
              "9746       0.0     0.0      0.0  ...            1            0            0\n",
              "9747      14.0    14.0      0.0  ...            1            0            0\n",
              "\n",
              "[100 rows x 26 columns]"
            ]
          },
          "metadata": {
            "tags": []
          },
          "execution_count": 36
        }
      ]
    },
    {
      "cell_type": "code",
      "metadata": {
        "id": "Lbztu9rRHhUw",
        "colab_type": "code",
        "colab": {
          "base_uri": "https://localhost:8080/",
          "height": 68
        },
        "outputId": "bc06e4ad-09ce-4cf8-e5fd-4551331094fa"
      },
      "source": [
        "mental_health.ADDEPEV.value_counts()\n",
        "#0 no 1 yes\n",
        "#Has a doctor or other healthcare provider EVER told you that you have a depressive disorder (including depression,\n",
        "#major depression, dysthymia, or minor depression)?"
      ],
      "execution_count": 37,
      "outputs": [
        {
          "output_type": "execute_result",
          "data": {
            "text/plain": [
              "0.0    59630\n",
              "1.0    12802\n",
              "Name: ADDEPEV, dtype: int64"
            ]
          },
          "metadata": {
            "tags": []
          },
          "execution_count": 37
        }
      ]
    },
    {
      "cell_type": "code",
      "metadata": {
        "id": "uSAmaOSSHhUz",
        "colab_type": "code",
        "colab": {}
      },
      "source": [
        "from sklearn.model_selection import train_test_split"
      ],
      "execution_count": 38,
      "outputs": []
    },
    {
      "cell_type": "code",
      "metadata": {
        "id": "RrQ2ZzQfHhU3",
        "colab_type": "code",
        "colab": {}
      },
      "source": [
        "#split into X and y variables\n",
        "X=mental_health2.drop(columns='ADDEPEV')\n",
        "X.reset_index(drop=True, inplace=True)\n"
      ],
      "execution_count": 39,
      "outputs": []
    },
    {
      "cell_type": "code",
      "metadata": {
        "id": "cxCY2XDqHhU8",
        "colab_type": "code",
        "colab": {}
      },
      "source": [
        "y=mental_health['ADDEPEV']\n",
        "y\n",
        "y.reset_index(drop=True, inplace=True)\n",
        "\n"
      ],
      "execution_count": 40,
      "outputs": []
    },
    {
      "cell_type": "code",
      "metadata": {
        "id": "pY1u1CRXHhVJ",
        "colab_type": "code",
        "colab": {}
      },
      "source": [
        "#split training and test data\n",
        "X_train, X_test, y_train, y_test=train_test_split(X,y, test_size=.2, random_state=111)"
      ],
      "execution_count": 41,
      "outputs": []
    },
    {
      "cell_type": "code",
      "metadata": {
        "id": "_14XIiiSHhVN",
        "colab_type": "code",
        "colab": {}
      },
      "source": [
        ""
      ],
      "execution_count": 41,
      "outputs": []
    },
    {
      "cell_type": "code",
      "metadata": {
        "id": "7txrBBVkHhVS",
        "colab_type": "code",
        "colab": {
          "base_uri": "https://localhost:8080/",
          "height": 34
        },
        "outputId": "1f05a73f-157b-4459-ced3-3ac96a5cbf99"
      },
      "source": [
        "from collections import Counter\n",
        "Counter(y_train)"
      ],
      "execution_count": 42,
      "outputs": [
        {
          "output_type": "execute_result",
          "data": {
            "text/plain": [
              "Counter({0.0: 47666, 1.0: 10279})"
            ]
          },
          "metadata": {
            "tags": []
          },
          "execution_count": 42
        }
      ]
    },
    {
      "cell_type": "markdown",
      "metadata": {
        "id": "02xgd5yYHhVX",
        "colab_type": "text"
      },
      "source": [
        "### Modeling\n",
        "This is a supervised learning classification problem. Therefore I have tested the following classification models:\n",
        "\n",
        "- Logistic Regression\n",
        "- K-Nearest Neighbor (KNN)\n",
        "- Decision Tree\n",
        "- Random Forest\n"
      ]
    },
    {
      "cell_type": "markdown",
      "metadata": {
        "id": "cDdx7hcdHhVY",
        "colab_type": "text"
      },
      "source": [
        "### Logistic Regression"
      ]
    },
    {
      "cell_type": "code",
      "metadata": {
        "id": "RbuKzj8THhVZ",
        "colab_type": "code",
        "colab": {
          "base_uri": "https://localhost:8080/",
          "height": 102
        },
        "outputId": "920e19c2-4b1e-4e6e-f02b-ad5e5fd23a05"
      },
      "source": [
        "from sklearn.linear_model import LogisticRegression\n",
        "model1 = LogisticRegression(random_state=0, solver='lbfgs', max_iter=500).fit(X_train, y_train)\n",
        "preds = model1.predict(X_test)\n",
        "LogisticRegression(penalty='l2', class_weight='balanced', C=1)"
      ],
      "execution_count": 43,
      "outputs": [
        {
          "output_type": "execute_result",
          "data": {
            "text/plain": [
              "LogisticRegression(C=1, class_weight='balanced', dual=False, fit_intercept=True,\n",
              "                   intercept_scaling=1, l1_ratio=None, max_iter=100,\n",
              "                   multi_class='auto', n_jobs=None, penalty='l2',\n",
              "                   random_state=None, solver='lbfgs', tol=0.0001, verbose=0,\n",
              "                   warm_start=False)"
            ]
          },
          "metadata": {
            "tags": []
          },
          "execution_count": 43
        }
      ]
    },
    {
      "cell_type": "code",
      "metadata": {
        "id": "sDpB1todHhVf",
        "colab_type": "code",
        "colab": {}
      },
      "source": [
        ""
      ],
      "execution_count": 43,
      "outputs": []
    },
    {
      "cell_type": "code",
      "metadata": {
        "id": "ZcRquiG4HhVm",
        "colab_type": "code",
        "colab": {
          "base_uri": "https://localhost:8080/",
          "height": 71
        },
        "outputId": "f19f4722-fe5e-4d77-b1ce-60b83cbed9ae"
      },
      "source": [
        "params = model1.get_params()\n",
        "print(params)\n",
        "model1.classes_"
      ],
      "execution_count": 44,
      "outputs": [
        {
          "output_type": "stream",
          "text": [
            "{'C': 1.0, 'class_weight': None, 'dual': False, 'fit_intercept': True, 'intercept_scaling': 1, 'l1_ratio': None, 'max_iter': 500, 'multi_class': 'auto', 'n_jobs': None, 'penalty': 'l2', 'random_state': 0, 'solver': 'lbfgs', 'tol': 0.0001, 'verbose': 0, 'warm_start': False}\n"
          ],
          "name": "stdout"
        },
        {
          "output_type": "execute_result",
          "data": {
            "text/plain": [
              "array([0., 1.])"
            ]
          },
          "metadata": {
            "tags": []
          },
          "execution_count": 44
        }
      ]
    },
    {
      "cell_type": "code",
      "metadata": {
        "id": "xrgsswIKHhVs",
        "colab_type": "code",
        "colab": {
          "base_uri": "https://localhost:8080/",
          "height": 34
        },
        "outputId": "eee96fd0-a71e-4085-8785-5d090f32de4a"
      },
      "source": [
        "model1.score(X_test, y_test)"
      ],
      "execution_count": 45,
      "outputs": [
        {
          "output_type": "execute_result",
          "data": {
            "text/plain": [
              "0.8656726720508041"
            ]
          },
          "metadata": {
            "tags": []
          },
          "execution_count": 45
        }
      ]
    },
    {
      "cell_type": "code",
      "metadata": {
        "id": "RZJqp69cHhVw",
        "colab_type": "code",
        "colab": {
          "base_uri": "https://localhost:8080/",
          "height": 51
        },
        "outputId": "7e52d7ae-1330-4b53-e8c2-21edd11278c1"
      },
      "source": [
        "from sklearn import metrics\n",
        "print(\"Accuracy:\",metrics.accuracy_score(y_test, preds))\n",
        "print(\"Precision:\",metrics.precision_score(y_test, preds))"
      ],
      "execution_count": 46,
      "outputs": [
        {
          "output_type": "stream",
          "text": [
            "Accuracy: 0.8656726720508041\n",
            "Precision: 0.680651221039449\n"
          ],
          "name": "stdout"
        }
      ]
    },
    {
      "cell_type": "code",
      "metadata": {
        "id": "L591_pjrHhVz",
        "colab_type": "code",
        "colab": {
          "base_uri": "https://localhost:8080/",
          "height": 51
        },
        "outputId": "d9bd759b-77e4-46ed-c648-c61399e68b47"
      },
      "source": [
        "from sklearn.metrics import confusion_matrix\n",
        "confusion_matrix(y_test, model1.predict(X_test))"
      ],
      "execution_count": 47,
      "outputs": [
        {
          "output_type": "execute_result",
          "data": {
            "text/plain": [
              "array([[11454,   510],\n",
              "       [ 1436,  1087]])"
            ]
          },
          "metadata": {
            "tags": []
          },
          "execution_count": 47
        }
      ]
    },
    {
      "cell_type": "markdown",
      "metadata": {
        "id": "8vwnYWPEHhV4",
        "colab_type": "text"
      },
      "source": [
        "This model does a good job of predicting those with depression, but I think we can do better. We're still missing 510 people with depression iwth this model. "
      ]
    },
    {
      "cell_type": "code",
      "metadata": {
        "id": "Tkw61JN6HhV5",
        "colab_type": "code",
        "colab": {}
      },
      "source": [
        "model2=LogisticRegression(random_state=0, penalty= 'none', solver='lbfgs', max_iter=500).fit(X_train, y_train)\n",
        "preds2=(model2.predict_proba(X_test)[:,1] >=.4).astype(bool)\n",
        "\n"
      ],
      "execution_count": 48,
      "outputs": []
    },
    {
      "cell_type": "code",
      "metadata": {
        "id": "qhtvQrSaHhWB",
        "colab_type": "code",
        "colab": {
          "base_uri": "https://localhost:8080/",
          "height": 54
        },
        "outputId": "ffd85874-e11a-4b91-814d-d776556c6767"
      },
      "source": [
        "params2=model2.get_params()\n",
        "print(params2)"
      ],
      "execution_count": 49,
      "outputs": [
        {
          "output_type": "stream",
          "text": [
            "{'C': 1.0, 'class_weight': None, 'dual': False, 'fit_intercept': True, 'intercept_scaling': 1, 'l1_ratio': None, 'max_iter': 500, 'multi_class': 'auto', 'n_jobs': None, 'penalty': 'none', 'random_state': 0, 'solver': 'lbfgs', 'tol': 0.0001, 'verbose': 0, 'warm_start': False}\n"
          ],
          "name": "stdout"
        }
      ]
    },
    {
      "cell_type": "code",
      "metadata": {
        "id": "nlhWMrG8HhWF",
        "colab_type": "code",
        "colab": {
          "base_uri": "https://localhost:8080/",
          "height": 34
        },
        "outputId": "397209e3-619b-43e8-e547-89c171ebf342"
      },
      "source": [
        "model2.score(X_test, y_test)"
      ],
      "execution_count": 50,
      "outputs": [
        {
          "output_type": "execute_result",
          "data": {
            "text/plain": [
              "0.8656726720508041"
            ]
          },
          "metadata": {
            "tags": []
          },
          "execution_count": 50
        }
      ]
    },
    {
      "cell_type": "code",
      "metadata": {
        "id": "KeGsmytIHhWM",
        "colab_type": "code",
        "colab": {
          "base_uri": "https://localhost:8080/",
          "height": 51
        },
        "outputId": "08191b1b-0e2c-4b27-e258-55285b23fa11"
      },
      "source": [
        "print(\"Accuracy:\",metrics.accuracy_score(y_test, preds2))\n",
        "print(\"Precision:\",metrics.precision_score(y_test, preds2))"
      ],
      "execution_count": 51,
      "outputs": [
        {
          "output_type": "stream",
          "text": [
            "Accuracy: 0.8630496307033892\n",
            "Precision: 0.6333498268184067\n"
          ],
          "name": "stdout"
        }
      ]
    },
    {
      "cell_type": "code",
      "metadata": {
        "id": "M0Gb66PaHhWS",
        "colab_type": "code",
        "colab": {
          "base_uri": "https://localhost:8080/",
          "height": 51
        },
        "outputId": "5a1a0b60-4d78-4a12-8709-028bd3dd700d"
      },
      "source": [
        "from sklearn.metrics import confusion_matrix\n",
        "confusion_matrix(y_test, preds2)"
      ],
      "execution_count": 52,
      "outputs": [
        {
          "output_type": "execute_result",
          "data": {
            "text/plain": [
              "array([[11223,   741],\n",
              "       [ 1243,  1280]])"
            ]
          },
          "metadata": {
            "tags": []
          },
          "execution_count": 52
        }
      ]
    },
    {
      "cell_type": "markdown",
      "metadata": {
        "id": "fGd5ZDP_HhWW",
        "colab_type": "text"
      },
      "source": [
        "The confusion matrix shows that although the score for the model is good, the model is not a good fit because it predicts the that 741 people without depression will have depression, which is not good. Therefore, we will try another model. Perhaps KNN is the better model for this problem."
      ]
    },
    {
      "cell_type": "markdown",
      "metadata": {
        "id": "16iUgV79HhWW",
        "colab_type": "text"
      },
      "source": [
        "### KNN"
      ]
    },
    {
      "cell_type": "code",
      "metadata": {
        "id": "jS7Lk0DCHhWX",
        "colab_type": "code",
        "colab": {
          "base_uri": "https://localhost:8080/",
          "height": 170
        },
        "outputId": "1c378492-9ca8-4ed4-edaa-739df1ba10eb"
      },
      "source": [
        "from sklearn.model_selection import GridSearchCV\n",
        "from sklearn.neighbors import KNeighborsClassifier\n",
        "param_grid = {'n_neighbors':np.arange(5,6)}\n",
        "knn = KNeighborsClassifier()\n",
        "knn_cv= GridSearchCV(knn,param_grid,cv=5)\n",
        "knn_cv.fit(X_train, y_train)"
      ],
      "execution_count": 53,
      "outputs": [
        {
          "output_type": "execute_result",
          "data": {
            "text/plain": [
              "GridSearchCV(cv=5, error_score=nan,\n",
              "             estimator=KNeighborsClassifier(algorithm='auto', leaf_size=30,\n",
              "                                            metric='minkowski',\n",
              "                                            metric_params=None, n_jobs=None,\n",
              "                                            n_neighbors=5, p=2,\n",
              "                                            weights='uniform'),\n",
              "             iid='deprecated', n_jobs=None,\n",
              "             param_grid={'n_neighbors': array([5])}, pre_dispatch='2*n_jobs',\n",
              "             refit=True, return_train_score=False, scoring=None, verbose=0)"
            ]
          },
          "metadata": {
            "tags": []
          },
          "execution_count": 53
        }
      ]
    },
    {
      "cell_type": "code",
      "metadata": {
        "id": "ruE9JQOIHhWa",
        "colab_type": "code",
        "colab": {
          "base_uri": "https://localhost:8080/",
          "height": 51
        },
        "outputId": "e91636e2-0524-43c7-94f3-60e60fb6ad76"
      },
      "source": [
        "print(\"Best Score:\" + str(knn_cv.best_score_))\n",
        "print(\"Best Parameters: \" + str(knn_cv.best_params_))"
      ],
      "execution_count": 54,
      "outputs": [
        {
          "output_type": "stream",
          "text": [
            "Best Score:0.8348088704806281\n",
            "Best Parameters: {'n_neighbors': 5}\n"
          ],
          "name": "stdout"
        }
      ]
    },
    {
      "cell_type": "code",
      "metadata": {
        "id": "vUDun996HhWd",
        "colab_type": "code",
        "colab": {
          "base_uri": "https://localhost:8080/",
          "height": 68
        },
        "outputId": "66946b1b-3b56-47af-9c52-f0f41a583ad7"
      },
      "source": [
        "import sklearn.metrics as metrics\n",
        "knn = KNeighborsClassifier(n_neighbors=5)\n",
        "knn.fit(X_train, y_train)\n",
        "y_pred = knn.predict(X_test)\n",
        "print(metrics.accuracy_score(y_test, y_pred))\n",
        "print(confusion_matrix(y_test, y_pred))"
      ],
      "execution_count": 55,
      "outputs": [
        {
          "output_type": "stream",
          "text": [
            "0.8406157244426037\n",
            "[[11301   663]\n",
            " [ 1646   877]]\n"
          ],
          "name": "stdout"
        }
      ]
    },
    {
      "cell_type": "code",
      "metadata": {
        "id": "3YHjvQ_fIhzz",
        "colab_type": "code",
        "colab": {
          "base_uri": "https://localhost:8080/",
          "height": 51
        },
        "outputId": "295b6726-3026-4261-966f-0b7cced3ce3f"
      },
      "source": [
        "print(\"Accuracy:\",metrics.accuracy_score(y_test, y_pred))\n",
        "print(\"Precision:\",metrics.precision_score(y_test, y_pred))"
      ],
      "execution_count": 56,
      "outputs": [
        {
          "output_type": "stream",
          "text": [
            "Accuracy: 0.8406157244426037\n",
            "Precision: 0.5694805194805195\n"
          ],
          "name": "stdout"
        }
      ]
    },
    {
      "cell_type": "markdown",
      "metadata": {
        "id": "6ECwkWdkHhWh",
        "colab_type": "text"
      },
      "source": [
        "This model also does not do a good job because it predicts everyone as not having depression (high accuracy, low precision)."
      ]
    },
    {
      "cell_type": "markdown",
      "metadata": {
        "id": "D81sA0mhHhWi",
        "colab_type": "text"
      },
      "source": [
        "## SVM"
      ]
    },
    {
      "cell_type": "code",
      "metadata": {
        "id": "Ll4ZQvngHhWi",
        "colab_type": "code",
        "colab": {
          "base_uri": "https://localhost:8080/",
          "height": 52
        },
        "outputId": "d1f300ee-655a-469f-babe-538c7bb6554b"
      },
      "source": [
        "'''from sklearn import svm\n",
        "\n",
        "#Create a svm Classifier\n",
        "clf = svm.SVC(kernel='linear') # Linear Kernel\n",
        "\n",
        "#Train the model using the training sets\n",
        "clf.fit(X_train, y_train)\n",
        "\n",
        "#Predict the response for test dataset\n",
        "y_pred = clf.predict(X_test)'''"
      ],
      "execution_count": 57,
      "outputs": [
        {
          "output_type": "execute_result",
          "data": {
            "application/vnd.google.colaboratory.intrinsic+json": {
              "type": "string"
            },
            "text/plain": [
              "\"from sklearn import svm\\n\\n#Create a svm Classifier\\nclf = svm.SVC(kernel='linear') # Linear Kernel\\n\\n#Train the model using the training sets\\nclf.fit(X_train, y_train)\\n\\n#Predict the response for test dataset\\ny_pred = clf.predict(X_test)\""
            ]
          },
          "metadata": {
            "tags": []
          },
          "execution_count": 57
        }
      ]
    },
    {
      "cell_type": "code",
      "metadata": {
        "id": "bdNX1u7eHhWl",
        "colab_type": "code",
        "colab": {
          "base_uri": "https://localhost:8080/",
          "height": 35
        },
        "outputId": "ad43a85e-47e9-447a-d876-1ce7cf69bd56"
      },
      "source": [
        "'''from sklearn import metrics\n",
        "print(\"Accuracy:\",metrics.accuracy_score(y_test, y_pred))\n",
        "print(\"Precision:\",metrics.precision_score(y_test, y_pred))'''"
      ],
      "execution_count": 58,
      "outputs": [
        {
          "output_type": "execute_result",
          "data": {
            "application/vnd.google.colaboratory.intrinsic+json": {
              "type": "string"
            },
            "text/plain": [
              "'from sklearn import metrics\\nprint(\"Accuracy:\",metrics.accuracy_score(y_test, y_pred))\\nprint(\"Precision:\",metrics.precision_score(y_test, y_pred))'"
            ]
          },
          "metadata": {
            "tags": []
          },
          "execution_count": 58
        }
      ]
    },
    {
      "cell_type": "code",
      "metadata": {
        "id": "xGB5muEiHhWq",
        "colab_type": "code",
        "colab": {}
      },
      "source": [
        "#print(confusion_matrix(y_test, y_pred))"
      ],
      "execution_count": 59,
      "outputs": []
    },
    {
      "cell_type": "markdown",
      "metadata": {
        "id": "oIY36bLhHhWu",
        "colab_type": "text"
      },
      "source": [
        "## Decision Tree\n",
        "Next, I will try a decision tree and I will tune the hyperparameters to achieve optimal results. First, I will try a decision tree with all the hyperparamters set at the default."
      ]
    },
    {
      "cell_type": "code",
      "metadata": {
        "id": "V_kUii4FHhWv",
        "colab_type": "code",
        "colab": {}
      },
      "source": [
        "from sklearn import tree"
      ],
      "execution_count": 60,
      "outputs": []
    },
    {
      "cell_type": "code",
      "metadata": {
        "id": "hhr8jreAHhWx",
        "colab_type": "code",
        "colab": {}
      },
      "source": [
        "clf = tree.DecisionTreeClassifier(criterion='gini')\n",
        "clf = clf.fit(X_train, y_train)\n",
        "y_pred=clf.predict(X_test)\n"
      ],
      "execution_count": 61,
      "outputs": []
    },
    {
      "cell_type": "code",
      "metadata": {
        "id": "hfOdCkkJHhW0",
        "colab_type": "code",
        "colab": {
          "base_uri": "https://localhost:8080/",
          "height": 34
        },
        "outputId": "eea84cc6-eed9-4db3-a9da-e83b99dacdf1"
      },
      "source": [
        "from sklearn import metrics\n",
        "print(\"Accuracy:\",metrics.accuracy_score(y_test, y_pred))"
      ],
      "execution_count": 62,
      "outputs": [
        {
          "output_type": "stream",
          "text": [
            "Accuracy: 0.8235659556844067\n"
          ],
          "name": "stdout"
        }
      ]
    },
    {
      "cell_type": "code",
      "metadata": {
        "id": "OrghrRpUHhW2",
        "colab_type": "code",
        "colab": {
          "base_uri": "https://localhost:8080/",
          "height": 34
        },
        "outputId": "b51db5e5-ceee-49e2-af2c-f6228dc15697"
      },
      "source": [
        "print(\"Precision:\",metrics.precision_score(y_test, y_pred))"
      ],
      "execution_count": 63,
      "outputs": [
        {
          "output_type": "stream",
          "text": [
            "Precision: 0.4921911973497397\n"
          ],
          "name": "stdout"
        }
      ]
    },
    {
      "cell_type": "code",
      "metadata": {
        "id": "3__DcNOzHhW6",
        "colab_type": "code",
        "colab": {
          "base_uri": "https://localhost:8080/",
          "height": 51
        },
        "outputId": "a9b6ffe4-a2b6-4da6-c269-96e61ae9e637"
      },
      "source": [
        "print(confusion_matrix(y_test, y_pred))"
      ],
      "execution_count": 64,
      "outputs": [
        {
          "output_type": "stream",
          "text": [
            "[[10891  1073]\n",
            " [ 1483  1040]]\n"
          ],
          "name": "stdout"
        }
      ]
    },
    {
      "cell_type": "markdown",
      "metadata": {
        "id": "DHvQW5NYHhW9",
        "colab_type": "text"
      },
      "source": [
        "This initial model does not do a very good job of classifying people with depression because it has a high false positive rate. Next, I will try to tune the criterion and max depth."
      ]
    },
    {
      "cell_type": "code",
      "metadata": {
        "id": "_EUgo3s1HhW9",
        "colab_type": "code",
        "colab": {
          "base_uri": "https://localhost:8080/",
          "height": 119
        },
        "outputId": "2eae9d10-8d93-4dc0-99e2-7de6db738dcc"
      },
      "source": [
        "clf2 = tree.DecisionTreeClassifier(criterion='entropy', max_depth=5)\n",
        "clf2.fit(X_train, y_train)\n",
        "\n"
      ],
      "execution_count": 65,
      "outputs": [
        {
          "output_type": "execute_result",
          "data": {
            "text/plain": [
              "DecisionTreeClassifier(ccp_alpha=0.0, class_weight=None, criterion='entropy',\n",
              "                       max_depth=5, max_features=None, max_leaf_nodes=None,\n",
              "                       min_impurity_decrease=0.0, min_impurity_split=None,\n",
              "                       min_samples_leaf=1, min_samples_split=2,\n",
              "                       min_weight_fraction_leaf=0.0, presort='deprecated',\n",
              "                       random_state=None, splitter='best')"
            ]
          },
          "metadata": {
            "tags": []
          },
          "execution_count": 65
        }
      ]
    },
    {
      "cell_type": "code",
      "metadata": {
        "id": "jIzATkSXHhXA",
        "colab_type": "code",
        "colab": {}
      },
      "source": [
        "y_pred2=clf2.predict(X_test)"
      ],
      "execution_count": 66,
      "outputs": []
    },
    {
      "cell_type": "code",
      "metadata": {
        "id": "cSjUArSmHhXG",
        "colab_type": "code",
        "colab": {
          "base_uri": "https://localhost:8080/",
          "height": 34
        },
        "outputId": "23441a15-e603-4f16-9425-f7f561b34c1d"
      },
      "source": [
        "from sklearn import metrics\n",
        "print(\"Accuracy:\",metrics.accuracy_score(y_test, y_pred2))"
      ],
      "execution_count": 67,
      "outputs": [
        {
          "output_type": "stream",
          "text": [
            "Accuracy: 0.8691240422447711\n"
          ],
          "name": "stdout"
        }
      ]
    },
    {
      "cell_type": "code",
      "metadata": {
        "id": "5QNgI4s4HhXI",
        "colab_type": "code",
        "colab": {
          "base_uri": "https://localhost:8080/",
          "height": 34
        },
        "outputId": "7f02c4ed-e601-4af6-95fa-4613b9f223d1"
      },
      "source": [
        "print(\"Precision:\",metrics.precision_score(y_test, y_pred2))"
      ],
      "execution_count": 68,
      "outputs": [
        {
          "output_type": "stream",
          "text": [
            "Precision: 0.700832799487508\n"
          ],
          "name": "stdout"
        }
      ]
    },
    {
      "cell_type": "code",
      "metadata": {
        "id": "iMmCcfChHhXN",
        "colab_type": "code",
        "colab": {
          "base_uri": "https://localhost:8080/",
          "height": 51
        },
        "outputId": "98015642-4c47-4cc2-da68-4ecea79e7a97"
      },
      "source": [
        "print(confusion_matrix(y_test, y_pred2))"
      ],
      "execution_count": 69,
      "outputs": [
        {
          "output_type": "stream",
          "text": [
            "[[11497   467]\n",
            " [ 1429  1094]]\n"
          ],
          "name": "stdout"
        }
      ]
    },
    {
      "cell_type": "markdown",
      "metadata": {
        "id": "QL6V0mvTHhXP",
        "colab_type": "text"
      },
      "source": [
        "This model does a good job of predicting depression. I specified the entropy model and a max depth of 5. It correctly identifies 1094 people with depression. There are 467 false positives out of 11964 true negatives. This is an acceptable error rate because it correctly detects almost half of the people with depression who may otherwise have not been identified prior to this screening."
      ]
    },
    {
      "cell_type": "markdown",
      "metadata": {
        "id": "u3FUPU7eHhXQ",
        "colab_type": "text"
      },
      "source": [
        "## Random Forest\n",
        "After seeing the positive results from the tuned decision tree analysis, the next step is to try out a Random Forest Classifier."
      ]
    },
    {
      "cell_type": "code",
      "metadata": {
        "id": "s8UolKSSHhXQ",
        "colab_type": "code",
        "colab": {
          "base_uri": "https://localhost:8080/",
          "height": 153
        },
        "outputId": "cd7bdf7c-c073-4337-96d6-118a088197f1"
      },
      "source": [
        "from sklearn.ensemble import RandomForestClassifier\n",
        "clf = RandomForestClassifier(criterion='entropy', random_state=0)\n",
        "clf.fit(X_train, y_train)"
      ],
      "execution_count": 70,
      "outputs": [
        {
          "output_type": "execute_result",
          "data": {
            "text/plain": [
              "RandomForestClassifier(bootstrap=True, ccp_alpha=0.0, class_weight=None,\n",
              "                       criterion='entropy', max_depth=None, max_features='auto',\n",
              "                       max_leaf_nodes=None, max_samples=None,\n",
              "                       min_impurity_decrease=0.0, min_impurity_split=None,\n",
              "                       min_samples_leaf=1, min_samples_split=2,\n",
              "                       min_weight_fraction_leaf=0.0, n_estimators=100,\n",
              "                       n_jobs=None, oob_score=False, random_state=0, verbose=0,\n",
              "                       warm_start=False)"
            ]
          },
          "metadata": {
            "tags": []
          },
          "execution_count": 70
        }
      ]
    },
    {
      "cell_type": "code",
      "metadata": {
        "id": "4qewsiDpHhXT",
        "colab_type": "code",
        "colab": {
          "base_uri": "https://localhost:8080/",
          "height": 34
        },
        "outputId": "f1b936c9-2713-4d0e-bdfb-540c2ddc81a3"
      },
      "source": [
        "y_pred_rf=clf.predict(X_test)\n",
        "from sklearn import metrics\n",
        "print(\"Accuracy:\",metrics.accuracy_score(y_test, y_pred_rf))"
      ],
      "execution_count": 71,
      "outputs": [
        {
          "output_type": "stream",
          "text": [
            "Accuracy: 0.8598053427210602\n"
          ],
          "name": "stdout"
        }
      ]
    },
    {
      "cell_type": "code",
      "metadata": {
        "id": "qxp0pQ0FHhXW",
        "colab_type": "code",
        "colab": {
          "base_uri": "https://localhost:8080/",
          "height": 34
        },
        "outputId": "12a7c62e-ecb1-4e0b-dd2d-1b0ccd2ab07b"
      },
      "source": [
        "print(\"Precision:\",metrics.precision_score(y_test, y_pred_rf))"
      ],
      "execution_count": 72,
      "outputs": [
        {
          "output_type": "stream",
          "text": [
            "Precision: 0.6467780429594272\n"
          ],
          "name": "stdout"
        }
      ]
    },
    {
      "cell_type": "code",
      "metadata": {
        "id": "NDd0fm5iHhXe",
        "colab_type": "code",
        "colab": {
          "base_uri": "https://localhost:8080/",
          "height": 51
        },
        "outputId": "f47ba5d5-ac6d-4c5f-ffd9-fb1b036db22b"
      },
      "source": [
        "print(confusion_matrix(y_test, y_pred_rf))"
      ],
      "execution_count": 73,
      "outputs": [
        {
          "output_type": "stream",
          "text": [
            "[[11372   592]\n",
            " [ 1439  1084]]\n"
          ],
          "name": "stdout"
        }
      ]
    },
    {
      "cell_type": "markdown",
      "metadata": {
        "id": "vBp-xxL6HhXi",
        "colab_type": "text"
      },
      "source": [
        "While this model performs fairly well, it doesn't perform as well as the Decision Tree. I also tried the gini model, and I tried out different max depths, but all of the Random Forest Classifiers performed worse than the Decision Tree above. Therefore, my model choice is the Decision Tree, entropy, max_depth=5.\n",
        "## Final Model: Decision Tree Confusion Matrix"
      ]
    },
    {
      "cell_type": "code",
      "metadata": {
        "id": "PWVHKXDoHhXk",
        "colab_type": "code",
        "colab": {
          "base_uri": "https://localhost:8080/",
          "height": 282
        },
        "outputId": "f8772712-1092-4712-b538-d1194389a176"
      },
      "source": [
        "cm=confusion_matrix(y_test, y_pred2)\n",
        "sns.heatmap(cm, annot=True, fmt='g')"
      ],
      "execution_count": 74,
      "outputs": [
        {
          "output_type": "execute_result",
          "data": {
            "text/plain": [
              "<matplotlib.axes._subplots.AxesSubplot at 0x7f7ae8289630>"
            ]
          },
          "metadata": {
            "tags": []
          },
          "execution_count": 74
        },
        {
          "output_type": "display_data",
          "data": {
            "image/png": "[encoded data removed]",
            "text/plain": [
              "<Figure size 432x288 with 2 Axes>"
            ]
          },
          "metadata": {
            "tags": [],
            "needs_background": "light"
          }
        }
      ]
    },
    {
      "cell_type": "code",
      "metadata": {
        "id": "4hsnJ_LdHhXo",
        "colab_type": "code",
        "colab": {}
      },
      "source": [
        ""
      ],
      "execution_count": 74,
      "outputs": []
    },
    {
      "cell_type": "code",
      "metadata": {
        "id": "66KBLMMrHhXr",
        "colab_type": "code",
        "colab": {}
      },
      "source": [
        ""
      ],
      "execution_count": 74,
      "outputs": []
    },
    {
      "cell_type": "code",
      "metadata": {
        "id": "ciaHZgl4HhXv",
        "colab_type": "code",
        "colab": {}
      },
      "source": [
        ""
      ],
      "execution_count": 74,
      "outputs": []
    }
  ]
}